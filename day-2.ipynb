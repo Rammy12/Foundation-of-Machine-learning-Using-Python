{
 "cells": [
  {
   "cell_type": "markdown",
   "id": "dc312568",
   "metadata": {},
   "source": [
    "# Day 2"
   ]
  },
  {
   "cell_type": "markdown",
   "id": "1ed45088",
   "metadata": {},
   "source": [
    "# Dictionary"
   ]
  },
  {
   "cell_type": "code",
   "execution_count": 2,
   "id": "cc4da914",
   "metadata": {},
   "outputs": [],
   "source": [
    "dicti={'a':1,'b':2,'c':3,'d':4,'e':5,'f':6}"
   ]
  },
  {
   "cell_type": "code",
   "execution_count": 4,
   "id": "d70e7470",
   "metadata": {},
   "outputs": [
    {
     "data": {
      "text/plain": [
       "dict"
      ]
     },
     "execution_count": 4,
     "metadata": {},
     "output_type": "execute_result"
    }
   ],
   "source": [
    "type(dicti)"
   ]
  },
  {
   "cell_type": "code",
   "execution_count": 5,
   "id": "a4e0101c",
   "metadata": {},
   "outputs": [
    {
     "data": {
      "text/plain": [
       "dict_keys(['a', 'b', 'c', 'd', 'e', 'f'])"
      ]
     },
     "execution_count": 5,
     "metadata": {},
     "output_type": "execute_result"
    }
   ],
   "source": [
    "dicti.keys()"
   ]
  },
  {
   "cell_type": "code",
   "execution_count": 6,
   "id": "0c6c9a25",
   "metadata": {},
   "outputs": [
    {
     "data": {
      "text/plain": [
       "dict_items([('a', 1), ('b', 2), ('c', 3), ('d', 4), ('e', 5), ('f', 6)])"
      ]
     },
     "execution_count": 6,
     "metadata": {},
     "output_type": "execute_result"
    }
   ],
   "source": [
    "dicti.items()"
   ]
  },
  {
   "cell_type": "code",
   "execution_count": 7,
   "id": "82c40eb1",
   "metadata": {},
   "outputs": [
    {
     "data": {
      "text/plain": [
       "dict_values([1, 2, 3, 4, 5, 6])"
      ]
     },
     "execution_count": 7,
     "metadata": {},
     "output_type": "execute_result"
    }
   ],
   "source": [
    "dicti.values()"
   ]
  },
  {
   "cell_type": "code",
   "execution_count": 8,
   "id": "9c25a875",
   "metadata": {},
   "outputs": [
    {
     "data": {
      "text/plain": [
       "5"
      ]
     },
     "execution_count": 8,
     "metadata": {},
     "output_type": "execute_result"
    }
   ],
   "source": [
    "dicti['e']"
   ]
  },
  {
   "cell_type": "code",
   "execution_count": 9,
   "id": "05d1a43c",
   "metadata": {},
   "outputs": [],
   "source": [
    "dicti['g']=7"
   ]
  },
  {
   "cell_type": "code",
   "execution_count": 10,
   "id": "d4418062",
   "metadata": {},
   "outputs": [
    {
     "data": {
      "text/plain": [
       "{'a': 1, 'b': 2, 'c': 3, 'd': 4, 'e': 5, 'f': 6, 'g': 7}"
      ]
     },
     "execution_count": 10,
     "metadata": {},
     "output_type": "execute_result"
    }
   ],
   "source": [
    "dicti"
   ]
  },
  {
   "cell_type": "code",
   "execution_count": 12,
   "id": "3dce4375",
   "metadata": {},
   "outputs": [
    {
     "data": {
      "text/plain": [
       "2"
      ]
     },
     "execution_count": 12,
     "metadata": {},
     "output_type": "execute_result"
    }
   ],
   "source": [
    "dicti.get('b')"
   ]
  },
  {
   "cell_type": "code",
   "execution_count": 13,
   "id": "340afa39",
   "metadata": {},
   "outputs": [],
   "source": [
    "dicti2={'data1':{\n",
    "    1:'a',\n",
    "    2:'b',\n",
    "    3:'c',\n",
    "    4:'d',\n",
    "    5:'e'\n",
    "},\n",
    "       'data2':{\n",
    "           1:'A',\n",
    "           2:'B',\n",
    "           3:'C',\n",
    "           4:'D',\n",
    "           5:'E'\n",
    "       }}"
   ]
  },
  {
   "cell_type": "code",
   "execution_count": 14,
   "id": "0a735bd9",
   "metadata": {},
   "outputs": [
    {
     "data": {
      "text/plain": [
       "{'data1': {1: 'a', 2: 'b', 3: 'c', 4: 'd', 5: 'e'},\n",
       " 'data2': {1: 'A', 2: 'B', 3: 'C', 4: 'D', 5: 'E'}}"
      ]
     },
     "execution_count": 14,
     "metadata": {},
     "output_type": "execute_result"
    }
   ],
   "source": [
    "dicti2"
   ]
  },
  {
   "cell_type": "markdown",
   "id": "da6f731b",
   "metadata": {},
   "source": [
    "# Tuple"
   ]
  },
  {
   "cell_type": "code",
   "execution_count": 15,
   "id": "af3b9f7e",
   "metadata": {},
   "outputs": [],
   "source": [
    "tu=(1,2,3,4,5,6,7,8)"
   ]
  },
  {
   "cell_type": "code",
   "execution_count": 16,
   "id": "6864b982",
   "metadata": {},
   "outputs": [
    {
     "data": {
      "text/plain": [
       "(1, 2, 3, 4, 5, 6, 7, 8)"
      ]
     },
     "execution_count": 16,
     "metadata": {},
     "output_type": "execute_result"
    }
   ],
   "source": [
    "tu"
   ]
  },
  {
   "cell_type": "code",
   "execution_count": 17,
   "id": "a75c13dc",
   "metadata": {},
   "outputs": [
    {
     "data": {
      "text/plain": [
       "1"
      ]
     },
     "execution_count": 17,
     "metadata": {},
     "output_type": "execute_result"
    }
   ],
   "source": [
    "tu.count(1)"
   ]
  },
  {
   "cell_type": "code",
   "execution_count": 19,
   "id": "259bc201",
   "metadata": {},
   "outputs": [
    {
     "data": {
      "text/plain": [
       "3"
      ]
     },
     "execution_count": 19,
     "metadata": {},
     "output_type": "execute_result"
    }
   ],
   "source": [
    "tu.index(4)"
   ]
  },
  {
   "cell_type": "markdown",
   "id": "2ee30579",
   "metadata": {},
   "source": [
    "# Statment"
   ]
  },
  {
   "cell_type": "code",
   "execution_count": 25,
   "id": "23908f96",
   "metadata": {},
   "outputs": [
    {
     "name": "stdout",
     "output_type": "stream",
     "text": [
      "56\n",
      "Number is +\n"
     ]
    }
   ],
   "source": [
    "number=int(input())\n",
    "if number==0:\n",
    "    print(\"Number is \",number)\n",
    "elif number>0:\n",
    "    print(\"Number is +\")\n",
    "else:\n",
    "    print(\"Number is -\")"
   ]
  },
  {
   "cell_type": "markdown",
   "id": "d2115819",
   "metadata": {},
   "source": [
    "# Loops"
   ]
  },
  {
   "cell_type": "code",
   "execution_count": 29,
   "id": "810f4219",
   "metadata": {},
   "outputs": [
    {
     "name": "stdout",
     "output_type": "stream",
     "text": [
      "56\n",
      "65\n"
     ]
    }
   ],
   "source": [
    "# While loop\n",
    "num=int(input())\n",
    "ans=0\n",
    "while num:\n",
    "    rem=num%10\n",
    "    ans=ans*10+rem\n",
    "    num=num//10\n",
    "print(ans)"
   ]
  },
  {
   "cell_type": "code",
   "execution_count": 37,
   "id": "0a391c21",
   "metadata": {},
   "outputs": [
    {
     "name": "stdout",
     "output_type": "stream",
     "text": [
      "45\n"
     ]
    }
   ],
   "source": [
    "# for loop using indexing\n",
    "arr=[1,2,3,4,5,6,7,8,9]\n",
    "ans=0\n",
    "for i in range(0,len(arr)):\n",
    "    ans+=arr[i]\n",
    "print(ans)"
   ]
  },
  {
   "cell_type": "code",
   "execution_count": 40,
   "id": "843b6cd5",
   "metadata": {},
   "outputs": [
    {
     "name": "stdout",
     "output_type": "stream",
     "text": [
      "45\n"
     ]
    }
   ],
   "source": [
    "# for loop using element\n",
    "arr=[1,2,3,4,5,6,7,8,9]\n",
    "ans=0\n",
    "for i in arr:\n",
    "    ans+=i\n",
    "print(ans)"
   ]
  },
  {
   "cell_type": "code",
   "execution_count": 41,
   "id": "5358092b",
   "metadata": {},
   "outputs": [
    {
     "data": {
      "text/plain": [
       "{'a': 1, 'b': 2, 'c': 3, 'd': 4, 'e': 5, 'f': 6, 'g': 7}"
      ]
     },
     "execution_count": 41,
     "metadata": {},
     "output_type": "execute_result"
    }
   ],
   "source": [
    "dicti"
   ]
  },
  {
   "cell_type": "code",
   "execution_count": 48,
   "id": "364be4d4",
   "metadata": {},
   "outputs": [
    {
     "name": "stdout",
     "output_type": "stream",
     "text": [
      "a -> 1 \n",
      "\n",
      "b -> 2 \n",
      "\n",
      "c -> 3 \n",
      "\n",
      "d -> 4 \n",
      "\n",
      "e -> 5 \n",
      "\n",
      "f -> 6 \n",
      "\n",
      "g -> 7 \n",
      "\n"
     ]
    }
   ],
   "source": [
    "for a,b in dicti.items():\n",
    "    print(a,\"->\",b,\"\\n\")"
   ]
  },
  {
   "cell_type": "code",
   "execution_count": 55,
   "id": "bec7d5fa",
   "metadata": {},
   "outputs": [],
   "source": [
    "a=[1,2,3,4,5,6,7,8]\n",
    "b=[i**2 for i in a]"
   ]
  },
  {
   "cell_type": "code",
   "execution_count": 56,
   "id": "41a18f48",
   "metadata": {},
   "outputs": [
    {
     "data": {
      "text/plain": [
       "[1, 4, 9, 16, 25, 36, 49, 64]"
      ]
     },
     "execution_count": 56,
     "metadata": {},
     "output_type": "execute_result"
    }
   ],
   "source": [
    "b"
   ]
  },
  {
   "cell_type": "code",
   "execution_count": 58,
   "id": "1083fa34",
   "metadata": {},
   "outputs": [
    {
     "name": "stdout",
     "output_type": "stream",
     "text": [
      "[4, 3, 16, 5, 36, 7, 64, 9, 16, 64, 5, 1]\n"
     ]
    }
   ],
   "source": [
    "list1=[2,3,4,5,6,7,8,9,4,8,5,1]\n",
    "list2=[]\n",
    "for i in list1:\n",
    "    if (i^1)==i+1: ## replace of i%2==0 as (i^1)==i+1\n",
    "        list2.append(i**2)\n",
    "    else:\n",
    "        list2.append(i)\n",
    "\n",
    "\n",
    "\n",
    "print(list2)\n"
   ]
  },
  {
   "cell_type": "code",
   "execution_count": 61,
   "id": "d2d8ab51",
   "metadata": {},
   "outputs": [],
   "source": [
    "a=\"we are learning python\""
   ]
  },
  {
   "cell_type": "code",
   "execution_count": 62,
   "id": "027dba25",
   "metadata": {},
   "outputs": [
    {
     "data": {
      "text/plain": [
       "'nohtyp gninrael era ew'"
      ]
     },
     "execution_count": 62,
     "metadata": {},
     "output_type": "execute_result"
    }
   ],
   "source": [
    "a[::-1]"
   ]
  },
  {
   "cell_type": "code",
   "execution_count": 90,
   "id": "8640671f",
   "metadata": {},
   "outputs": [
    {
     "name": "stdout",
     "output_type": "stream",
     "text": [
      "Even index String S r n _ a _ e e d s _\n",
      "odd index String t i g h i m r _ o t\n"
     ]
    }
   ],
   "source": [
    "st='String_hai_mere_dost_'\n",
    "st1=[]\n",
    "st2=[]\n",
    "for i in range(0,len(st)):\n",
    "    if i%2==0:\n",
    "        st1.append(st[i])\n",
    "    else:\n",
    "        st2.append(st[i])\n",
    "print(\"Even index String\",\" \".join(str(x) for x in st1))\n",
    "print(\"odd index String\",\" \".join(str(x) for x in st2))"
   ]
  },
  {
   "cell_type": "code",
   "execution_count": 107,
   "id": "4f6d4c98",
   "metadata": {},
   "outputs": [
    {
     "name": "stdout",
     "output_type": "stream",
     "text": [
      "(6, 'Varsha', 90)\n"
     ]
    }
   ],
   "source": [
    "## 10 student list tuple name,roll, marks pass in function return topper name and data\n",
    "student_list=[(1,'Ravi',83),(2,'Chhotu',85),(3,'Jyoti',71),(4,'Sweta',89),(5,'Ashutosh',81),(6,'Varsha',90),(7,'Sonali',79),(8,'Nitish',76),(9,'Shankar',81),(10,'Shivam',87)]\n",
    "\n",
    "\n",
    "def studentmanagment(s_list):\n",
    "    name=''\n",
    "    marks=0\n",
    "    roll_no=0\n",
    "    for ro,na,ma in s_list:\n",
    "        if ma>marks:\n",
    "            marks=ma\n",
    "            name=na\n",
    "            roll_no=ro\n",
    "    return roll_no,name,marks\n",
    "student_list_ans=studentmanagment(student_list)\n",
    "print(student_list_ans)\n",
    "        "
   ]
  },
  {
   "cell_type": "code",
   "execution_count": 117,
   "id": "8f03a91a",
   "metadata": {},
   "outputs": [
    {
     "name": "stdout",
     "output_type": "stream",
     "text": [
      "True\n"
     ]
    }
   ],
   "source": [
    "## 20 elements list 008 its return true else false\n",
    "list1=[1,2,3,4,5,6,0,0,8,7,8,4,1,3,4,6,8,0,3]\n",
    "\n",
    "def example(list1):\n",
    "    index = list1.index(0)\n",
    "    if list1[index+1] == 0 and list1[index+2] == 8:\n",
    "        return True\n",
    "    else:\n",
    "        return False\n",
    "print(example(list1))"
   ]
  },
  {
   "cell_type": "code",
   "execution_count": null,
   "id": "93692307",
   "metadata": {},
   "outputs": [],
   "source": []
  }
 ],
 "metadata": {
  "kernelspec": {
   "display_name": "Python 3 (ipykernel)",
   "language": "python",
   "name": "python3"
  },
  "language_info": {
   "codemirror_mode": {
    "name": "ipython",
    "version": 3
   },
   "file_extension": ".py",
   "mimetype": "text/x-python",
   "name": "python",
   "nbconvert_exporter": "python",
   "pygments_lexer": "ipython3",
   "version": "3.10.7"
  }
 },
 "nbformat": 4,
 "nbformat_minor": 5
}
