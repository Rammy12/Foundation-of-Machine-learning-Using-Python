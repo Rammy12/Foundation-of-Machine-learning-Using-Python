{
 "cells": [
  {
   "cell_type": "markdown",
   "id": "42d39c9a",
   "metadata": {},
   "source": [
    "# Day 2"
   ]
  },
  {
   "cell_type": "markdown",
   "id": "ce6f8ac3",
   "metadata": {},
   "source": [
    "# Dictionary"
   ]
  },
  {
   "cell_type": "code",
   "execution_count": 2,
   "id": "b66c624a",
   "metadata": {},
   "outputs": [],
   "source": [
    "dicti={'a':1,'b':2,'c':3,'d':4,'e':5,'f':6}"
   ]
  },
  {
   "cell_type": "code",
   "execution_count": 4,
   "id": "dec8a464",
   "metadata": {},
   "outputs": [
    {
     "data": {
      "text/plain": [
       "dict"
      ]
     },
     "execution_count": 4,
     "metadata": {},
     "output_type": "execute_result"
    }
   ],
   "source": [
    "type(dicti)"
   ]
  },
  {
   "cell_type": "code",
   "execution_count": 5,
   "id": "735b5b60",
   "metadata": {},
   "outputs": [
    {
     "data": {
      "text/plain": [
       "dict_keys(['a', 'b', 'c', 'd', 'e', 'f'])"
      ]
     },
     "execution_count": 5,
     "metadata": {},
     "output_type": "execute_result"
    }
   ],
   "source": [
    "dicti.keys()"
   ]
  },
  {
   "cell_type": "code",
   "execution_count": 6,
   "id": "8a6c8dad",
   "metadata": {},
   "outputs": [
    {
     "data": {
      "text/plain": [
       "dict_items([('a', 1), ('b', 2), ('c', 3), ('d', 4), ('e', 5), ('f', 6)])"
      ]
     },
     "execution_count": 6,
     "metadata": {},
     "output_type": "execute_result"
    }
   ],
   "source": [
    "dicti.items()"
   ]
  },
  {
   "cell_type": "code",
   "execution_count": 7,
   "id": "70ebac49",
   "metadata": {},
   "outputs": [
    {
     "data": {
      "text/plain": [
       "dict_values([1, 2, 3, 4, 5, 6])"
      ]
     },
     "execution_count": 7,
     "metadata": {},
     "output_type": "execute_result"
    }
   ],
   "source": [
    "dicti.values()"
   ]
  },
  {
   "cell_type": "code",
   "execution_count": 8,
   "id": "03dc9663",
   "metadata": {},
   "outputs": [
    {
     "data": {
      "text/plain": [
       "5"
      ]
     },
     "execution_count": 8,
     "metadata": {},
     "output_type": "execute_result"
    }
   ],
   "source": [
    "dicti['e']"
   ]
  },
  {
   "cell_type": "code",
   "execution_count": 9,
   "id": "99309b52",
   "metadata": {},
   "outputs": [],
   "source": [
    "dicti['g']=7"
   ]
  },
  {
   "cell_type": "code",
   "execution_count": 10,
   "id": "b97651f5",
   "metadata": {},
   "outputs": [
    {
     "data": {
      "text/plain": [
       "{'a': 1, 'b': 2, 'c': 3, 'd': 4, 'e': 5, 'f': 6, 'g': 7}"
      ]
     },
     "execution_count": 10,
     "metadata": {},
     "output_type": "execute_result"
    }
   ],
   "source": [
    "dicti"
   ]
  },
  {
   "cell_type": "code",
   "execution_count": 12,
   "id": "7384ff00",
   "metadata": {},
   "outputs": [
    {
     "data": {
      "text/plain": [
       "2"
      ]
     },
     "execution_count": 12,
     "metadata": {},
     "output_type": "execute_result"
    }
   ],
   "source": [
    "dicti.get('b')"
   ]
  },
  {
   "cell_type": "code",
   "execution_count": 13,
   "id": "7a32bbbf",
   "metadata": {},
   "outputs": [],
   "source": [
    "dicti2={'data1':{\n",
    "    1:'a',\n",
    "    2:'b',\n",
    "    3:'c',\n",
    "    4:'d',\n",
    "    5:'e'\n",
    "},\n",
    "       'data2':{\n",
    "           1:'A',\n",
    "           2:'B',\n",
    "           3:'C',\n",
    "           4:'D',\n",
    "           5:'E'\n",
    "       }}"
   ]
  },
  {
   "cell_type": "code",
   "execution_count": 14,
   "id": "4bddb6d0",
   "metadata": {},
   "outputs": [
    {
     "data": {
      "text/plain": [
       "{'data1': {1: 'a', 2: 'b', 3: 'c', 4: 'd', 5: 'e'},\n",
       " 'data2': {1: 'A', 2: 'B', 3: 'C', 4: 'D', 5: 'E'}}"
      ]
     },
     "execution_count": 14,
     "metadata": {},
     "output_type": "execute_result"
    }
   ],
   "source": [
    "dicti2"
   ]
  },
  {
   "cell_type": "markdown",
   "id": "fe1ed48a",
   "metadata": {},
   "source": [
    "# Tuple"
   ]
  },
  {
   "cell_type": "code",
   "execution_count": 15,
   "id": "d17dae61",
   "metadata": {},
   "outputs": [],
   "source": [
    "tu=(1,2,3,4,5,6,7,8)"
   ]
  },
  {
   "cell_type": "code",
   "execution_count": 16,
   "id": "943a8afe",
   "metadata": {},
   "outputs": [
    {
     "data": {
      "text/plain": [
       "(1, 2, 3, 4, 5, 6, 7, 8)"
      ]
     },
     "execution_count": 16,
     "metadata": {},
     "output_type": "execute_result"
    }
   ],
   "source": [
    "tu"
   ]
  },
  {
   "cell_type": "code",
   "execution_count": 17,
   "id": "46398bd2",
   "metadata": {},
   "outputs": [
    {
     "data": {
      "text/plain": [
       "1"
      ]
     },
     "execution_count": 17,
     "metadata": {},
     "output_type": "execute_result"
    }
   ],
   "source": [
    "tu.count(1)"
   ]
  },
  {
   "cell_type": "code",
   "execution_count": 19,
   "id": "77bc49a5",
   "metadata": {},
   "outputs": [
    {
     "data": {
      "text/plain": [
       "3"
      ]
     },
     "execution_count": 19,
     "metadata": {},
     "output_type": "execute_result"
    }
   ],
   "source": [
    "tu.index(4)"
   ]
  },
  {
   "cell_type": "markdown",
   "id": "6c71aab0",
   "metadata": {},
   "source": [
    "# Statment"
   ]
  },
  {
   "cell_type": "code",
   "execution_count": 25,
   "id": "4e170db3",
   "metadata": {},
   "outputs": [
    {
     "name": "stdout",
     "output_type": "stream",
     "text": [
      "56\n",
      "Number is +\n"
     ]
    }
   ],
   "source": [
    "number=int(input())\n",
    "if number==0:\n",
    "    print(\"Number is \",number)\n",
    "elif number>0:\n",
    "    print(\"Number is +\")\n",
    "else:\n",
    "    print(\"Number is -\")"
   ]
  },
  {
   "cell_type": "markdown",
   "id": "2ad47be1",
   "metadata": {},
   "source": [
    "# Loops"
   ]
  },
  {
   "cell_type": "code",
   "execution_count": 29,
   "id": "dd31959d",
   "metadata": {},
   "outputs": [
    {
     "name": "stdout",
     "output_type": "stream",
     "text": [
      "56\n",
      "65\n"
     ]
    }
   ],
   "source": [
    "# While loop\n",
    "num=int(input())\n",
    "ans=0\n",
    "while num:\n",
    "    rem=num%10\n",
    "    ans=ans*10+rem\n",
    "    num=num//10\n",
    "print(ans)"
   ]
  },
  {
   "cell_type": "code",
   "execution_count": 37,
   "id": "b26ee813",
   "metadata": {},
   "outputs": [
    {
     "name": "stdout",
     "output_type": "stream",
     "text": [
      "45\n"
     ]
    }
   ],
   "source": [
    "# for loop using indexing\n",
    "arr=[1,2,3,4,5,6,7,8,9]\n",
    "ans=0\n",
    "for i in range(0,len(arr)):\n",
    "    ans+=arr[i]\n",
    "print(ans)"
   ]
  },
  {
   "cell_type": "code",
   "execution_count": 38,
   "id": "a95be517",
   "metadata": {},
   "outputs": [
    {
     "name": "stdout",
     "output_type": "stream",
     "text": [
      "45\n"
     ]
    }
   ],
   "source": [
    "# for loop using element\n",
    "arr=[1,2,3,4,5,6,7,8,9]\n",
    "ans=0\n",
    "for i in arr:\n",
    "    ans+=i\n",
    "print(ans)"
   ]
  },
  {
   "cell_type": "code",
   "execution_count": null,
   "id": "6a31a42f",
   "metadata": {},
   "outputs": [],
   "source": []
  },
  {
   "cell_type": "code",
   "execution_count": null,
   "id": "f3665c51",
   "metadata": {},
   "outputs": [],
   "source": []
  }
 ],
 "metadata": {
  "kernelspec": {
   "display_name": "Python 3 (ipykernel)",
   "language": "python",
   "name": "python3"
  },
  "language_info": {
   "codemirror_mode": {
    "name": "ipython",
    "version": 3
   },
   "file_extension": ".py",
   "mimetype": "text/x-python",
   "name": "python",
   "nbconvert_exporter": "python",
   "pygments_lexer": "ipython3",
   "version": "3.10.7"
  }
 },
 "nbformat": 4,
 "nbformat_minor": 5
}
