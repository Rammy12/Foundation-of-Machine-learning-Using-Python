{
 "cells": [
  {
   "cell_type": "code",
   "execution_count": 1,
   "id": "1babc7c2",
   "metadata": {},
   "outputs": [
    {
     "name": "stdout",
     "output_type": "stream",
     "text": [
      "<class 'str'>\n"
     ]
    }
   ],
   "source": [
    "a=\"ramesh\"\n",
    "print(type(a))"
   ]
  },
  {
   "cell_type": "code",
   "execution_count": 2,
   "id": "bc39315a",
   "metadata": {},
   "outputs": [
    {
     "data": {
      "text/plain": [
       "'ramesh'"
      ]
     },
     "execution_count": 2,
     "metadata": {},
     "output_type": "execute_result"
    }
   ],
   "source": [
    "a"
   ]
  },
  {

   "metadata": {},
   "source": [
    "## scalar multiplication"
   ]
  },
  {
   "cell_type": "code",
   "execution_count": 4,
   "id": "9c391ea5",
   "metadata": {},
   "outputs": [
    {
     "data": {
      "text/plain": [
       "'rameshrameshrameshramesh'"
      ]
     },
     "execution_count": 4,
     "metadata": {},
     "output_type": "execute_result"
    }
   ],
   "source": [
    "a*4"
   ]
  },
  {

   "metadata": {},
   "source": [
    "## sum of string or String concatination"
   ]
  },
  {
   "cell_type": "code",

   "metadata": {},
   "outputs": [],
   "source": [
    "s=\"Here Is\""
   ]
  },
  {
   "cell_type": "code",

   "metadata": {},
   "outputs": [],
   "source": [
    "b=\" ramesh's laptop\""
   ]
  },
  {
   "cell_type": "code",

   "metadata": {},
   "outputs": [
    {
     "name": "stdout",
     "output_type": "stream",
     "text": [
      "Here Is ramesh's laptop\n"
     ]
    }
   ],
   "source": [
    "ans=s+b\n",
    "print(ans)"
   ]
  },
  {
   "cell_type": "markdown",
   "id": "3036591d",
   "metadata": {},
   "source": [
    "## Element indexing"
   ]
  },
  {
   "cell_type": "code",

   "metadata": {},
   "outputs": [],
   "source": [
    "st=ans[2:-1]"
   ]
  },
  {
   "cell_type": "code",

   "metadata": {},
   "outputs": [
    {
     "data": {
      "text/plain": [
       "\"re Is ramesh's lapto\""
      ]
     },
     "execution_count": 11,
     "metadata": {},
     "output_type": "execute_result"
    }
   ],
   "source": [
    "st"
   ]
  },
  {

   "metadata": {},
   "source": [
    "## Finding length of String"
   ]
  },
  {
   "cell_type": "code",
   "execution_count": 20,
   "id": "993722e4",
   "metadata": {},
   "outputs": [
    {
     "name": "stdout",
     "output_type": "stream",
     "text": [
      "23\n"
     ]
    }
   ],
   "source": [
    "print(len(ans))"
   ]
  },
  {

   "metadata": {},
   "source": [
    "## backword indexing"
   ]
  },
  {
   "cell_type": "code",
   "execution_count": 23,
   "id": "fff0497b",
   "metadata": {},
   "outputs": [
    {
     "data": {
      "text/plain": [
       "'p'"
      ]
     },
     "execution_count": 23,
     "metadata": {},
     "output_type": "execute_result"
    }
   ],
   "source": [
    "ans[-4]"
   ]
  },
  {

   "metadata": {},
   "source": [
    "## Sclicing"
   ]
  },
  {
   "cell_type": "code",
   "execution_count": 24,
   "id": "0d4cb08f",
   "metadata": {},
   "outputs": [
    {
     "data": {
      "text/plain": [
       "\"Here Is ramesh's laptop\""
      ]
     },
     "execution_count": 24,
     "metadata": {},
     "output_type": "execute_result"
    }
   ],
   "source": [
    "ans[::]"
   ]
  },
  {
   "cell_type": "code",
   "execution_count": 25,
   "id": "85f9c529",
   "metadata": {},
   "outputs": [
    {
     "data": {
      "text/plain": [
       "'r s'"
      ]
     },
     "execution_count": 25,
     "metadata": {},
     "output_type": "execute_result"
    }
   ],
   "source": [
    "ans[2:8:2]"
   ]
  },
  {
   "cell_type": "markdown",
   "id": "2c8692cf",
   "metadata": {},
   "source": [
    "## reverse the string"
   ]
  },
  {
   "cell_type": "code",
   "execution_count": 26,
   "id": "0b15f337",
   "metadata": {},
   "outputs": [
    {
     "data": {
      "text/plain": [
       "\"potpal s'hsemar sI ereH\""
      ]
     },
     "execution_count": 26,
     "metadata": {},
     "output_type": "execute_result"
    }
   ],
   "source": [
    "ans[::-1]"
   ]
  },
  {

   "metadata": {},
   "source": [
    "## String functions"
   ]
  },
  {
   "cell_type": "code",
   "execution_count": 28,
   "id": "20bb90fb",
   "metadata": {},
   "outputs": [
    {
     "data": {
      "text/plain": [
       "\"Here is ramesh's laptop\""
      ]
     },
     "execution_count": 28,
     "metadata": {},
     "output_type": "execute_result"
    }
   ],
   "source": [
    "ans.capitalize()"
   ]
  },
  {
   "cell_type": "code",
   "execution_count": 31,
   "id": "41508f7e",
   "metadata": {},
   "outputs": [
    {
     "data": {
      "text/plain": [
       "2"
      ]
     },
     "execution_count": 31,
     "metadata": {},
     "output_type": "execute_result"
    }
   ],
   "source": [
    "ans.count('r')"
   ]
  },
  {
   "cell_type": "code",
   "execution_count": 32,
   "id": "c63098d3",
   "metadata": {},
   "outputs": [
    {
     "data": {
      "text/plain": [
       "10"
      ]
     },
     "execution_count": 32,
     "metadata": {},
     "output_type": "execute_result"
    }
   ],
   "source": [
    "ans.find('m')"
   ]
  },
  {

   "metadata": {},
   "source": [
    "## list"
   ]
  },
  {
   "cell_type": "code",
   "execution_count": 34,
   "id": "567a3ec7",
   "metadata": {},
   "outputs": [],
   "source": [
    "b=ans.split()"
   ]
  },
  {
   "cell_type": "code",
   "execution_count": 35,
   "id": "7c7a34f9",
   "metadata": {},
   "outputs": [
    {
     "name": "stdout",
     "output_type": "stream",
     "text": [
      "<class 'list'>\n"
     ]
    }
   ],
   "source": [
    "print(type(b))"
   ]
  },
  {
   "cell_type": "code",
   "execution_count": 37,
   "id": "12c3c04e",
   "metadata": {},
   "outputs": [],
   "source": [
    "b=ans.split('r')"
   ]
  },
  {
   "cell_type": "code",
   "execution_count": 38,
   "id": "8bfa2425",
   "metadata": {},
   "outputs": [
    {
     "data": {
      "text/plain": [
       "['He', 'e Is ', \"amesh's laptop\"]"
      ]
     },
     "execution_count": 38,
     "metadata": {},
     "output_type": "execute_result"
    }
   ],
   "source": [
    "b"
   ]
  },
  {
   "cell_type": "code",
   "execution_count": 39,
   "id": "135e8a29",
   "metadata": {},
   "outputs": [],
   "source": [
    "a=[1,2,3,4,5,6,7,8,0]"
   ]
  },
  {
   "cell_type": "code",
   "execution_count": 41,
   "id": "4408cdc2",
   "metadata": {},
   "outputs": [
    {
     "data": {
      "text/plain": [
       "list"
      ]
     },
     "execution_count": 41,
     "metadata": {},
     "output_type": "execute_result"
    }
   ],
   "source": [
    "type(a)"
   ]
  },
  {
   "cell_type": "code",
   "execution_count": 42,
   "id": "75d9c89e",
   "metadata": {},
   "outputs": [
    {
     "data": {
      "text/plain": [
       "9"
      ]
     },
     "execution_count": 42,
     "metadata": {},
     "output_type": "execute_result"
    }
   ],
   "source": [
    "len(a)"
   ]
  },
  {
   "cell_type": "code",
   "execution_count": 43,
   "id": "ddd9148b",
   "metadata": {},
   "outputs": [],
   "source": [
    "a=['a',1,'b',2,'c',3]"
   ]
  },
  {
   "cell_type": "code",
   "execution_count": 44,
   "id": "acca9020",
   "metadata": {},
   "outputs": [
    {
     "data": {
      "text/plain": [
       "list"
      ]
     },
     "execution_count": 44,
     "metadata": {},
     "output_type": "execute_result"
    }
   ],
   "source": [
    "type(a)"
   ]
  },
  {
   "cell_type": "code",
   "execution_count": 46,
   "id": "7ba30e90",
   "metadata": {},
   "outputs": [
    {
     "name": "stdout",
     "output_type": "stream",
     "text": [
      "['a', 1, 'b', 2, 'c', 3]\n"
     ]
    }
   ],
   "source": [
    "print(a)"
   ]
  },
  {
   "cell_type": "code",
   "execution_count": 47,
   "id": "3e5ddcb6",
   "metadata": {},
   "outputs": [],
   "source": [
    "al=['a',1,'b',2,'c',3,a]"
   ]
  },
  {
   "cell_type": "code",
   "execution_count": 48,
   "id": "2cad4d4e",
   "metadata": {},
   "outputs": [
    {
     "data": {
      "text/plain": [
       "['a', 1, 'b', 2, 'c', 3, ['a', 1, 'b', 2, 'c', 3]]"
      ]
     },
     "execution_count": 48,
     "metadata": {},
     "output_type": "execute_result"
    }
   ],
   "source": [
    "al"
   ]
  },
  {
   "cell_type": "code",
   "execution_count": 49,
   "id": "679ec035",
   "metadata": {},
   "outputs": [
    {
     "data": {
      "text/plain": [
       "2"
      ]
     },
     "execution_count": 49,
     "metadata": {},
     "output_type": "execute_result"
    }
   ],
   "source": [
    "al[3]"
   ]
  },
  {
   "cell_type": "code",
   "execution_count": 50,
   "id": "251be9a7",
   "metadata": {},
   "outputs": [
    {
     "data": {
      "text/plain": [
       "['a', 1, 'b', 2, 'c', 3]"
      ]
     },
     "execution_count": 50,
     "metadata": {},
     "output_type": "execute_result"
    }
   ],
   "source": [
    "al[-1]"
   ]
  },
  {
   "cell_type": "code",
   "execution_count": 51,
   "id": "6832a6b1",
   "metadata": {},
   "outputs": [
    {
     "data": {
      "text/plain": [
       "['b', 2, 'c', 3]"
      ]
     },
     "execution_count": 51,
     "metadata": {},
     "output_type": "execute_result"
    }
   ],
   "source": [
    "al[2:-1]"
   ]
  },
  {
   "cell_type": "code",
   "execution_count": 52,
   "id": "76e6cf9e",
   "metadata": {},
   "outputs": [
    {
     "data": {
      "text/plain": [
       "['a', 1, 'b', 2, 'c', 3, ['a', 1, 'b', 2, 'c', 3]]"
      ]
     },
     "execution_count": 52,
     "metadata": {},
     "output_type": "execute_result"
    }
   ],
   "source": [
    "al"
   ]
  },
  {
   "cell_type": "code",
   "execution_count": 53,
   "id": "bbde92fb",
   "metadata": {},
   "outputs": [
    {
     "data": {
      "text/plain": [
       "3"
      ]
     },
     "execution_count": 53,
     "metadata": {},
     "output_type": "execute_result"
    }
   ],
   "source": [
    "al[-1][-1]"
   ]
  },
  {
   "cell_type": "code",
   "execution_count": 54,
   "id": "69df913b",
   "metadata": {},
   "outputs": [
    {
     "data": {
      "text/plain": [
       "['a', 1, 'b', 2, 'c', 3]"
      ]
     },
     "execution_count": 54,
     "metadata": {},
     "output_type": "execute_result"
    }
   ],
   "source": [
    "al[-1]"
   ]
  },
  {
   "cell_type": "code",
   "execution_count": 55,
   "id": "608909c2",
   "metadata": {},
   "outputs": [],
   "source": [
    "## changing element"
   ]
  },
  {
   "cell_type": "code",
   "execution_count": 60,
   "id": "f5346ab2",
   "metadata": {},
   "outputs": [
    {
     "name": "stdout",
     "output_type": "stream",
     "text": [
      "['a', 1, 'b', 5, 'c', 3, ['a', 1, 'b', 2, 'c', 3]]\n",
      "['a', 1, 'b', 5, 'c', 3, ['a', 1, 'b', 2, 'c', 3]]\n",
      "['a', 1, 'b', 20.5, 5, 'c', 3, ['a', 1, 'b', 2, 'c', 3]]\n"
     ]
    }
   ],
   "source": [
    "print(al)\n",
    "al[3]=5\n",
    "print(al)\n",
    "al.insert(3,20.5)\n",
    "print(al)"
   ]
  },
  {
   "cell_type": "code",
   "execution_count": 61,
   "id": "8d1d6093",
   "metadata": {},
   "outputs": [
    {
     "name": "stdout",
     "output_type": "stream",
     "text": [
      "['a', 1, 'b', 20.5, 5, 'c', 3, ['a', 1, 'b', 2, 'c', 3], 900]\n"
     ]
    }
   ],
   "source": [
    "al.append(900)\n",
    "print(al)"
   ]
  },
  {
   "cell_type": "code",
   "execution_count": 59,
   "id": "2ce6031b",
   "metadata": {},
   "outputs": [],
   "source": [
    "## prime number list"
   ]
  },
  {
   "cell_type": "code",
   "execution_count": null,
   "id": "eee52ff8",
   "metadata": {},
   "outputs": [],
   "source": []
  },
  {
   "cell_type": "code",
   "execution_count": null,
   "id": "b7877683",
   "metadata": {},
   "outputs": [],
   "source": []
  }
 ],
 "metadata": {
  "kernelspec": {
   "display_name": "Python 3 (ipykernel)",
   "language": "python",
   "name": "python3"
  },
  "language_info": {
   "codemirror_mode": {
    "name": "ipython",
    "version": 3
   },
   "file_extension": ".py",
   "mimetype": "text/x-python",
   "name": "python",
   "nbconvert_exporter": "python",
   "pygments_lexer": "ipython3",
   "version": "3.9.6"
  }
 },
 "nbformat": 4,
 "nbformat_minor": 5
}
