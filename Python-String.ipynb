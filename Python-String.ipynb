{
 "cells": [
  {
   "cell_type": "code",
   "execution_count": 1,
   "id": "8ac88738",
   "metadata": {},
   "outputs": [
    {
     "name": "stdout",
     "output_type": "stream",
     "text": [
      "<class 'str'>\n"
     ]
    }
   ],
   "source": [
    "a=\"ramesh\"\n",
    "print(type(a))"
   ]
  },
  {
   "cell_type": "code",
   "execution_count": 2,
   "id": "03818c23",
   "metadata": {},
   "outputs": [
    {
     "data": {
      "text/plain": [
       "'ramesh'"
      ]
     },
     "execution_count": 2,
     "metadata": {},
     "output_type": "execute_result"
    }
   ],
   "source": [
    "a"
   ]
  },
  {
   "cell_type": "code",
   "execution_count": 3,
   "id": "94f6eb95",
   "metadata": {},
   "outputs": [],
   "source": [
    "## scalar multiplication"
   ]
  },
  {
   "cell_type": "code",
   "execution_count": 4,
   "id": "80ccec90",
   "metadata": {},
   "outputs": [
    {
     "data": {
      "text/plain": [
       "'rameshrameshrameshramesh'"
      ]
     },
     "execution_count": 4,
     "metadata": {},
     "output_type": "execute_result"
    }
   ],
   "source": [
    "a*4"
   ]
  },
  {
   "cell_type": "code",
   "execution_count": 5,
   "id": "d8e18e73",
   "metadata": {},
   "outputs": [],
   "source": [
    "## sum of string or String concatination"
   ]
  },
  {
   "cell_type": "code",
   "execution_count": 8,
   "id": "d3a7ccbb",
   "metadata": {},
   "outputs": [],
   "source": [
    "s=\"Here Is\""
   ]
  },
  {
   "cell_type": "code",
   "execution_count": 10,
   "id": "cc0bebce",
   "metadata": {},
   "outputs": [],
   "source": [
    "b=\" ramesh's laptop\""
   ]
  },
  {
   "cell_type": "code",
   "execution_count": 12,
   "id": "bc9b21f0",
   "metadata": {},
   "outputs": [
    {
     "name": "stdout",
     "output_type": "stream",
     "text": [
      "Here Is ramesh's laptop\n"
     ]
    }
   ],
   "source": [
    "ans=s+b\n",
    "print(ans)"
   ]
  },
  {
   "cell_type": "code",
   "execution_count": 16,
   "id": "0c555ca7",
   "metadata": {},
   "outputs": [],
   "source": [
    "## Element indexing\n",
    "st=ans[2:-1]"
   ]
  },
  {
   "cell_type": "code",
   "execution_count": 17,
   "id": "6241c403",
   "metadata": {},
   "outputs": [
    {
     "data": {
      "text/plain": [
       "\"re Is ramesh's lapto\""
      ]
     },
     "execution_count": 17,
     "metadata": {},
     "output_type": "execute_result"
    }
   ],
   "source": [
    "st"
   ]
  },
  {
   "cell_type": "code",
   "execution_count": 18,
   "id": "ce083a6a",
   "metadata": {},
   "outputs": [],
   "source": [
    "## Finding length of String"
   ]
  },
  {
   "cell_type": "code",
   "execution_count": 20,
   "id": "588332de",
   "metadata": {},
   "outputs": [
    {
     "name": "stdout",
     "output_type": "stream",
     "text": [
      "23\n"
     ]
    }
   ],
   "source": [
    "print(len(ans))"
   ]
  },
  {
   "cell_type": "code",
   "execution_count": 21,
   "id": "bff91ce8",
   "metadata": {},
   "outputs": [],
   "source": [
    "## backword indexing"
   ]
  },
  {
   "cell_type": "code",
   "execution_count": 23,
   "id": "85a51cdf",
   "metadata": {},
   "outputs": [
    {
     "data": {
      "text/plain": [
       "'p'"
      ]
     },
     "execution_count": 23,
     "metadata": {},
     "output_type": "execute_result"
    }
   ],
   "source": [
    "ans[-4]"
   ]
  },
  {
   "cell_type": "code",
   "execution_count": null,
   "id": "58eeb4ed",
   "metadata": {},
   "outputs": [],
   "source": [
    "## Sclicing"
   ]
  },
  {
   "cell_type": "code",
   "execution_count": 24,
   "id": "205e85f0",
   "metadata": {},
   "outputs": [
    {
     "data": {
      "text/plain": [
       "\"Here Is ramesh's laptop\""
      ]
     },
     "execution_count": 24,
     "metadata": {},
     "output_type": "execute_result"
    }
   ],
   "source": [
    "ans[::]"
   ]
  },
  {
   "cell_type": "code",
   "execution_count": 25,
   "id": "370aa211",
   "metadata": {},
   "outputs": [
    {
     "data": {
      "text/plain": [
       "'r s'"
      ]
     },
     "execution_count": 25,
     "metadata": {},
     "output_type": "execute_result"
    }
   ],
   "source": [
    "ans[2:8:2]"
   ]
  },
  {
   "cell_type": "code",
   "execution_count": 26,
   "id": "7680c847",
   "metadata": {},
   "outputs": [
    {
     "data": {
      "text/plain": [
       "\"potpal s'hsemar sI ereH\""
      ]
     },
     "execution_count": 26,
     "metadata": {},
     "output_type": "execute_result"
    }
   ],
   "source": [
    "## reverse the string\n",
    "ans[::-1]"
   ]
  },
  {
   "cell_type": "code",
   "execution_count": 27,
   "id": "e1ea9a75",
   "metadata": {},
   "outputs": [],
   "source": [
    "## String functions"
   ]
  },
  {
   "cell_type": "code",
   "execution_count": 28,
   "id": "4a7133ca",
   "metadata": {},
   "outputs": [
    {
     "data": {
      "text/plain": [
       "\"Here is ramesh's laptop\""
      ]
     },
     "execution_count": 28,
     "metadata": {},
     "output_type": "execute_result"
    }
   ],
   "source": [
    "ans.capitalize()"
   ]
  },
  {
   "cell_type": "code",
   "execution_count": 31,
   "id": "59f592aa",
   "metadata": {},
   "outputs": [
    {
     "data": {
      "text/plain": [
       "2"
      ]
     },
     "execution_count": 31,
     "metadata": {},
     "output_type": "execute_result"
    }
   ],
   "source": [
    "ans.count('r')"
   ]
  },
  {
   "cell_type": "code",
   "execution_count": 32,
   "id": "532c2bf7",
   "metadata": {},
   "outputs": [
    {
     "data": {
      "text/plain": [
       "10"
      ]
     },
     "execution_count": 32,
     "metadata": {},
     "output_type": "execute_result"
    }
   ],
   "source": [
    "ans.find('m')"
   ]
  },
  {
   "cell_type": "code",
   "execution_count": 36,
   "id": "f3ce56ed",
   "metadata": {},
   "outputs": [],
   "source": [
    "## list"
   ]
  },
  {
   "cell_type": "code",
   "execution_count": 34,
   "id": "ae8f4ea7",
   "metadata": {},
   "outputs": [],
   "source": [
    "b=ans.split()"
   ]
  },
  {
   "cell_type": "code",
   "execution_count": 35,
   "id": "2eebcfe3",
   "metadata": {},
   "outputs": [
    {
     "name": "stdout",
     "output_type": "stream",
     "text": [
      "<class 'list'>\n"
     ]
    }
   ],
   "source": [
    "print(type(b))"
   ]
  },
  {
   "cell_type": "code",
   "execution_count": 37,
   "id": "b5915993",
   "metadata": {},
   "outputs": [],
   "source": [
    "b=ans.split('r')"
   ]
  },
  {
   "cell_type": "code",
   "execution_count": 38,
   "id": "a3743737",
   "metadata": {},
   "outputs": [
    {
     "data": {
      "text/plain": [
       "['He', 'e Is ', \"amesh's laptop\"]"
      ]
     },
     "execution_count": 38,
     "metadata": {},
     "output_type": "execute_result"
    }
   ],
   "source": [
    "b"
   ]
  },
  {
   "cell_type": "code",
   "execution_count": null,
   "id": "1b66db7f",
   "metadata": {},
   "outputs": [],
   "source": []
  }
 ],
 "metadata": {
  "kernelspec": {
   "display_name": "Python 3 (ipykernel)",
   "language": "python",
   "name": "python3"
  },
  "language_info": {
   "codemirror_mode": {
    "name": "ipython",
    "version": 3
   },
   "file_extension": ".py",
   "mimetype": "text/x-python",
   "name": "python",
   "nbconvert_exporter": "python",
   "pygments_lexer": "ipython3",
   "version": "3.10.7"
  }
 },
 "nbformat": 4,
 "nbformat_minor": 5
}
