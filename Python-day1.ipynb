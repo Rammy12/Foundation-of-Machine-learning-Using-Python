{
 "cells": [
  {
   "cell_type": "code",
   "execution_count": 3,
   "id": "19fdbab9",
   "metadata": {},
   "outputs": [
    {
     "name": "stdout",
     "output_type": "stream",
     "text": [
      "90\n",
      "78\n",
      "168\n"
     ]
    }
   ],
   "source": [
    "## Q1\n",
    "\n",
    "a=int(input())\n",
    "b=int(input())\n",
    "print(a+b)"
   ]
  },
  {
   "cell_type": "code",
   "execution_count": 6,
   "id": "deb637c1",
   "metadata": {},
   "outputs": [
    {
     "name": "stdout",
     "output_type": "stream",
     "text": [
      "34\n",
      "89\n",
      "89\n"
     ]
    }
   ],
   "source": [
    "## Q2\n",
    "first_number=int(input())\n",
    "second_number=int(input())\n",
    "if first_number>second_number:\n",
    "    print(first_number)\n",
    "elif second_number==first_number:\n",
    "    print(\"Equal\")\n",
    "else:\n",
    "    print(second_number)"
   ]
  },
  {
   "cell_type": "code",
   "execution_count": 1,
   "id": "21d55fc4",
   "metadata": {},
   "outputs": [
    {
     "name": "stdout",
     "output_type": "stream",
     "text": [
      "100.67\n",
      "10\n",
      "2\n",
      "20.134\n"
     ]
    }
   ],
   "source": [
    "## Q3\n",
    "s=float(input())\n",
    "i=int(input())\n",
    "t=int(input())\n",
    "si=(s*i*t)/100\n",
    "print(si)"
   ]
  },
  {
   "cell_type": "code",
   "execution_count": 2,
   "id": "dc718fcf",
   "metadata": {},
   "outputs": [
    {
     "name": "stdout",
     "output_type": "stream",
     "text": [
      "100\n",
      "10\n",
      "2\n",
      "21.000000000000014\n"
     ]
    }
   ],
   "source": [
    "## Q4\n",
    "s=float(input())\n",
    "i=int(input())\n",
    "t=int(input())\n",
    "Amount = s * (pow((1 + i / 100), t))\n",
    "CI = Amount - s\n",
    "print( CI)"
   ]
  },
  {
   "cell_type": "code",
   "execution_count": 3,
   "id": "800bd9ae",
   "metadata": {},
   "outputs": [
    {
     "name": "stdout",
     "output_type": "stream",
     "text": [
      "33\n",
      "Not Divisiable by 2\n"
     ]
    }
   ],
   "source": [
    "## Q5\n",
    "number=int(input())\n",
    "if number%2==0:\n",
    "    print(\"Divisiable by 2\")\n",
    "else:\n",
    "    print(\"Not Divisiable by 2\")"
   ]
  },
  {
   "cell_type": "code",
   "execution_count": null,
   "id": "820a9821",
   "metadata": {},
   "outputs": [],
   "source": []
  }
 ],
 "metadata": {
  "kernelspec": {
   "display_name": "Python 3 (ipykernel)",
   "language": "python",
   "name": "python3"
  },
  "language_info": {
   "codemirror_mode": {
    "name": "ipython",
    "version": 3
   },
   "file_extension": ".py",
   "mimetype": "text/x-python",
   "name": "python",
   "nbconvert_exporter": "python",
   "pygments_lexer": "ipython3",
   "version": "3.10.7"
  }
 },
 "nbformat": 4,
 "nbformat_minor": 5
}
