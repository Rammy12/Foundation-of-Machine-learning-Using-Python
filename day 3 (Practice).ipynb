{
 "cells": [
  {
   "cell_type": "code",
   "execution_count": 1,
   "id": "eae0e35f",
   "metadata": {},
   "outputs": [
    {
     "name": "stdout",
     "output_type": "stream",
     "text": [
      "Even index String S r n _ a _ e e d s _\n",
      "odd index String t i g h i m r _ o t\n"
     ]
    }
   ],
   "source": [
    "## Q 1\n",
    "st='String_hai_mere_dost_'\n",
    "st1=[]\n",
    "st2=[]\n",
    "for i in range(0,len(st)):\n",
    "    if i%2==0:\n",
    "        st1.append(st[i])\n",
    "    else:\n",
    "        st2.append(st[i])\n",
    "print(\"Even index String\",\" \".join(str(x) for x in st1))\n",
    "print(\"odd index String\",\" \".join(str(x) for x in st2))"
   ]
  },
  {
   "cell_type": "code",
   "execution_count": 8,
   "id": "3c0106bd",
   "metadata": {},
   "outputs": [],
   "source": [
    "## Q 2\n",
    "\n",
    "n=4\n",
    "st2=[]\n",
    "st='String_hai_mere_dost_'\n",
    "for i in range(n,len(st)):\n",
    "    st2.append(st[i])\n",
    "    "
   ]
  },
  {
   "cell_type": "code",
   "execution_count": 9,
   "id": "c25a15b3",
   "metadata": {},
   "outputs": [
    {
     "data": {
      "text/plain": [
       "['n',\n",
       " 'g',\n",
       " '_',\n",
       " 'h',\n",
       " 'a',\n",
       " 'i',\n",
       " '_',\n",
       " 'm',\n",
       " 'e',\n",
       " 'r',\n",
       " 'e',\n",
       " '_',\n",
       " 'd',\n",
       " 'o',\n",
       " 's',\n",
       " 't',\n",
       " '_']"
      ]
     },
     "execution_count": 9,
     "metadata": {},
     "output_type": "execute_result"
    }
   ],
   "source": [
    "st2"
   ]
  },
  {
   "cell_type": "code",
   "execution_count": 12,
   "id": "83976122",
   "metadata": {},
   "outputs": [
    {
     "name": "stdout",
     "output_type": "stream",
     "text": [
      "NO\n"
     ]
    }
   ],
   "source": [
    "## Q3\n",
    "list1=[1,2,3,4,5,6,7,8,4]\n",
    "if list1[0]==list1[-1]:\n",
    "    print(\"Yes\")\n",
    "else:\n",
    "    print(\"NO\")"
   ]
  },
  {
   "cell_type": "code",
   "execution_count": 14,
   "id": "9ef6fd04",
   "metadata": {},
   "outputs": [
    {
     "data": {
      "text/plain": [
       "1"
      ]
     },
     "execution_count": 14,
     "metadata": {},
     "output_type": "execute_result"
    }
   ],
   "source": [
    "## Q 4\n",
    "st='String_hai_mere_dost_'\n",
    "st.count('ai')\n"
   ]
  },
  {
   "cell_type": "code",
   "execution_count": 29,
   "id": "5291586d",
   "metadata": {},
   "outputs": [
    {
     "name": "stdout",
     "output_type": "stream",
     "text": [
      "Odd list : [1, 3, 5, 7, 9]\n",
      "Even list : [2, 4, 6, 8, 10]\n"
     ]
    }
   ],
   "source": [
    "## Q 5\n",
    "list5=[1,2,3,4,5,6,7,8,9,10]\n",
    "n=len(list5)\n",
    "odd_list1=list5[0:n+1:2]\n",
    "even_list1=list5[1:n+1:2]\n",
    "print(\"Odd list :\",odd_list1)\n",
    "print(\"Even list :\",even_list1)"
   ]
  },
  {
   "cell_type": "code",
   "execution_count": 37,
   "id": "f1cc921b",
   "metadata": {},
   "outputs": [
    {
     "name": "stdout",
     "output_type": "stream",
     "text": [
      "dict_items([('p', 2), ('y', 1), ('t', 1), ('h', 1), ('o', 2), ('n', 2), ('r', 2), ('g', 2), ('a', 1), ('m', 2), ('i', 1)])\n"
     ]
    }
   ],
   "source": [
    "## Q10 \n",
    "st10='pythonprogramming'\n",
    "def s_count(st):\n",
    "    ls={}\n",
    "    for i in st:\n",
    "        ls[i]=st.count(i)\n",
    "    return ls\n",
    "\n",
    "ans_ls=s_count(st10)       \n",
    "print(ans_ls.items())"
   ]
  },
  {
   "cell_type": "code",
   "execution_count": 39,
   "id": "0755ec01",
   "metadata": {},
   "outputs": [],
   "source": [
    "## Q9\n",
    "st91='pythonprogramming'\n",
    "st92='programming'\n",
    "len1=len(st91)\n",
    "len2=len(st92)\n",
    "ans=[]\n"
   ]
  },
  {
   "cell_type": "code",
   "execution_count": 40,
   "id": "5bc22fa6",
   "metadata": {},
   "outputs": [
    {
     "data": {
      "text/plain": [
       "[]"
      ]
     },
     "execution_count": 40,
     "metadata": {},
     "output_type": "execute_result"
    }
   ],
   "source": [
    "ans"
   ]
  },
  {
   "cell_type": "code",
   "execution_count": 65,
   "id": "7964137e",
   "metadata": {},
   "outputs": [
    {
     "name": "stdout",
     "output_type": "stream",
     "text": [
      "seamsr\n"
     ]
    }
   ],
   "source": [
    "## Q 10\n",
    "\n",
    "st10='sweta'\n",
    "st11='mishra'\n",
    "def even_s(string):\n",
    "    even=\"\"\n",
    "    for i in range(0,len(string)):\n",
    "        if i%2==0:\n",
    "            even+=string[i]\n",
    "    return even\n",
    "ans1=even_s(st10)\n",
    "ans2=even_s(st11)\n",
    "print(ans1+ans2)"
   ]
  },
  {
   "cell_type": "code",
   "execution_count": 48,
   "id": "ddb9e976",
   "metadata": {},
   "outputs": [],
   "source": [
    "## Q 8\n",
    "st81=\"Hello\"\n",
    "st82=\"World\"\n",
    "len1=len(st81)\n",
    "len2=len(st82)\n",
    "ls=[]\n",
    "i\n",
    "j=len2\n",
    "while i<len1 and j>=0 :\n",
    "    ls.append(st81[i])\n",
    "    ls.append(st82[j])\n",
    "    i=i+1\n",
    "    j=j-1"
   ]
  },
  {
   "cell_type": "code",
   "execution_count": 49,
   "id": "051e67c6",
   "metadata": {},
   "outputs": [
    {
     "data": {
      "text/plain": [
       "[]"
      ]
     },
     "execution_count": 49,
     "metadata": {},
     "output_type": "execute_result"
    }
   ],
   "source": [
    "ls"
   ]
  },
  {
   "cell_type": "code",
   "execution_count": 58,
   "id": "5338a938",
   "metadata": {},
   "outputs": [
    {
     "name": "stdout",
     "output_type": "stream",
     "text": [
      "['p', 't', 'h', 'n', 'p', 'r', 'o', 'g', 'r', 'm', 'm', 'i', 'n', 'g', 'Y', 'O', 'A']\n"
     ]
    }
   ],
   "source": [
    "ls1=[]\n",
    "ls2=[]\n",
    "st10='pYthOnprogrAmming'\n",
    "for i in range(0,len(st10)):\n",
    "    if st10[i].islower():\n",
    "        ls1.append(st10[i])\n",
    "    else:\n",
    "        ls2.append(st10[i])\n",
    "print(ls1+ls2)"
   ]
  },
  {
   "cell_type": "code",
   "execution_count": 57,
   "id": "769012c4",
   "metadata": {},
   "outputs": [
    {
     "data": {
      "text/plain": [
       "['p',\n",
       " 't',\n",
       " 'h',\n",
       " 'n',\n",
       " 'p',\n",
       " 'r',\n",
       " 'o',\n",
       " 'g',\n",
       " 'r',\n",
       " 'm',\n",
       " 'm',\n",
       " 'i',\n",
       " 'n',\n",
       " 'g',\n",
       " 'Y',\n",
       " 'O',\n",
       " 'A']"
      ]
     },
     "execution_count": 57,
     "metadata": {},
     "output_type": "execute_result"
    }
   ],
   "source": [
    "ls1+ls2"
   ]
  },
  {
   "cell_type": "code",
   "execution_count": null,
   "id": "0d962bca",
   "metadata": {},
   "outputs": [],
   "source": []
  }
 ],
 "metadata": {
  "kernelspec": {
   "display_name": "Python 3 (ipykernel)",
   "language": "python",
   "name": "python3"
  },
  "language_info": {
   "codemirror_mode": {
    "name": "ipython",
    "version": 3
   },
   "file_extension": ".py",
   "mimetype": "text/x-python",
   "name": "python",
   "nbconvert_exporter": "python",
   "pygments_lexer": "ipython3",
   "version": "3.10.7"
  }
 },
 "nbformat": 4,
 "nbformat_minor": 5
}
