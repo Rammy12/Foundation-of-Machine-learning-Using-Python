{
 "cells": [
  {
   "cell_type": "code",
   "execution_count": 1,
   "id": "43d33aaf",
   "metadata": {},
   "outputs": [],
   "source": [
    "import numpy as np\n",
    "import pandas as pd\n",
    "import seaborn as sns\n",
    "import matplotlib.pyplot as plt"
   ]
  },
  {
   "cell_type": "code",
   "execution_count": 26,
   "id": "9f197337",
   "metadata": {},
   "outputs": [],
   "source": [
    "data=pd.read_csv('IPL 2020.csv')"
   ]
  },
  {
   "cell_type": "code",
   "execution_count": 27,
   "id": "b034b474",
   "metadata": {},
   "outputs": [
    {
     "data": {
      "text/html": [
       "<div>\n",
       "<style scoped>\n",
       "    .dataframe tbody tr th:only-of-type {\n",
       "        vertical-align: middle;\n",
       "    }\n",
       "\n",
       "    .dataframe tbody tr th {\n",
       "        vertical-align: top;\n",
       "    }\n",
       "\n",
       "    .dataframe thead th {\n",
       "        text-align: right;\n",
       "    }\n",
       "</style>\n",
       "<table border=\"1\" class=\"dataframe\">\n",
       "  <thead>\n",
       "    <tr style=\"text-align: right;\">\n",
       "      <th></th>\n",
       "      <th>Match ID</th>\n",
       "      <th>Date</th>\n",
       "      <th>Venue</th>\n",
       "      <th>Team1</th>\n",
       "      <th>Team2</th>\n",
       "      <th>Toss Winner</th>\n",
       "      <th>Toss Decision</th>\n",
       "      <th>Stage</th>\n",
       "      <th>First Innings Score</th>\n",
       "      <th>First Innings Wicket</th>\n",
       "      <th>Second Innings score</th>\n",
       "      <th>Second Innings Wicket</th>\n",
       "      <th>Match Winner</th>\n",
       "      <th>Won by</th>\n",
       "      <th>Margin</th>\n",
       "      <th>Player of the match</th>\n",
       "    </tr>\n",
       "  </thead>\n",
       "  <tbody>\n",
       "    <tr>\n",
       "      <th>0</th>\n",
       "      <td>1</td>\n",
       "      <td>19-09-2020</td>\n",
       "      <td>Sheikh Zayed Cricket Stadium, Abu Dhabi</td>\n",
       "      <td>Mumbai Indians</td>\n",
       "      <td>Chennai Super Kings</td>\n",
       "      <td>Chennai Super Kings</td>\n",
       "      <td>Field</td>\n",
       "      <td>Group</td>\n",
       "      <td>162</td>\n",
       "      <td>9</td>\n",
       "      <td>166</td>\n",
       "      <td>5</td>\n",
       "      <td>Chennai Super Kings</td>\n",
       "      <td>Wickets</td>\n",
       "      <td>5.0</td>\n",
       "      <td>Ambati Rayudu</td>\n",
       "    </tr>\n",
       "    <tr>\n",
       "      <th>1</th>\n",
       "      <td>2</td>\n",
       "      <td>20-09-2020</td>\n",
       "      <td>Dubai International Cricket Stadium, Dubai</td>\n",
       "      <td>Delhi Capitals</td>\n",
       "      <td>Kings XI Punjab</td>\n",
       "      <td>Kings XI Punjab</td>\n",
       "      <td>Field</td>\n",
       "      <td>Group</td>\n",
       "      <td>157</td>\n",
       "      <td>8</td>\n",
       "      <td>157</td>\n",
       "      <td>8</td>\n",
       "      <td>Delhi Capitals</td>\n",
       "      <td>Super Over</td>\n",
       "      <td>NaN</td>\n",
       "      <td>Marcus Stoinis</td>\n",
       "    </tr>\n",
       "    <tr>\n",
       "      <th>2</th>\n",
       "      <td>3</td>\n",
       "      <td>21-09-2020</td>\n",
       "      <td>Dubai International Cricket Stadium, Dubai</td>\n",
       "      <td>Royal Challengers Bangalore</td>\n",
       "      <td>Sunrisers Hyderabad</td>\n",
       "      <td>Sunrisers Hyderabad</td>\n",
       "      <td>Field</td>\n",
       "      <td>Group</td>\n",
       "      <td>163</td>\n",
       "      <td>5</td>\n",
       "      <td>153</td>\n",
       "      <td>10</td>\n",
       "      <td>Royal Challengers Bangalore</td>\n",
       "      <td>Runs</td>\n",
       "      <td>10.0</td>\n",
       "      <td>Yuzvendra Chahal</td>\n",
       "    </tr>\n",
       "    <tr>\n",
       "      <th>3</th>\n",
       "      <td>4</td>\n",
       "      <td>22-09-2020</td>\n",
       "      <td>Sharjah Cricket Stadium, Sharjah</td>\n",
       "      <td>Rajasthan Royals</td>\n",
       "      <td>Chennai Super Kings</td>\n",
       "      <td>Chennai Super Kings</td>\n",
       "      <td>Field</td>\n",
       "      <td>Group</td>\n",
       "      <td>216</td>\n",
       "      <td>7</td>\n",
       "      <td>200</td>\n",
       "      <td>6</td>\n",
       "      <td>Rajasthan Royals</td>\n",
       "      <td>Runs</td>\n",
       "      <td>16.0</td>\n",
       "      <td>Sanju Samson</td>\n",
       "    </tr>\n",
       "    <tr>\n",
       "      <th>4</th>\n",
       "      <td>5</td>\n",
       "      <td>23-09-2020</td>\n",
       "      <td>Sheikh Zayed Cricket Stadium, Abu Dhabi</td>\n",
       "      <td>Mumbai Indians</td>\n",
       "      <td>Kolkata Knight Riders</td>\n",
       "      <td>Kolkata Knight Riders</td>\n",
       "      <td>Field</td>\n",
       "      <td>Group</td>\n",
       "      <td>195</td>\n",
       "      <td>5</td>\n",
       "      <td>146</td>\n",
       "      <td>9</td>\n",
       "      <td>Mumbai Indians</td>\n",
       "      <td>Runs</td>\n",
       "      <td>49.0</td>\n",
       "      <td>Rohit Sharma</td>\n",
       "    </tr>\n",
       "  </tbody>\n",
       "</table>\n",
       "</div>"
      ],
      "text/plain": [
       "   Match ID        Date                                       Venue  \\\n",
       "0         1  19-09-2020     Sheikh Zayed Cricket Stadium, Abu Dhabi   \n",
       "1         2  20-09-2020  Dubai International Cricket Stadium, Dubai   \n",
       "2         3  21-09-2020  Dubai International Cricket Stadium, Dubai   \n",
       "3         4  22-09-2020            Sharjah Cricket Stadium, Sharjah   \n",
       "4         5  23-09-2020     Sheikh Zayed Cricket Stadium, Abu Dhabi   \n",
       "\n",
       "                         Team1                  Team2            Toss Winner  \\\n",
       "0               Mumbai Indians    Chennai Super Kings    Chennai Super Kings   \n",
       "1               Delhi Capitals        Kings XI Punjab        Kings XI Punjab   \n",
       "2  Royal Challengers Bangalore    Sunrisers Hyderabad    Sunrisers Hyderabad   \n",
       "3             Rajasthan Royals    Chennai Super Kings    Chennai Super Kings   \n",
       "4               Mumbai Indians  Kolkata Knight Riders  Kolkata Knight Riders   \n",
       "\n",
       "  Toss Decision  Stage  First Innings Score  First Innings Wicket  \\\n",
       "0         Field  Group                  162                     9   \n",
       "1         Field  Group                  157                     8   \n",
       "2         Field  Group                  163                     5   \n",
       "3         Field  Group                  216                     7   \n",
       "4         Field  Group                  195                     5   \n",
       "\n",
       "   Second Innings score  Second Innings Wicket                 Match Winner  \\\n",
       "0                   166                      5          Chennai Super Kings   \n",
       "1                   157                      8               Delhi Capitals   \n",
       "2                   153                     10  Royal Challengers Bangalore   \n",
       "3                   200                      6             Rajasthan Royals   \n",
       "4                   146                      9               Mumbai Indians   \n",
       "\n",
       "       Won by  Margin Player of the match  \n",
       "0     Wickets     5.0       Ambati Rayudu  \n",
       "1  Super Over     NaN      Marcus Stoinis  \n",
       "2        Runs    10.0    Yuzvendra Chahal  \n",
       "3        Runs    16.0        Sanju Samson  \n",
       "4        Runs    49.0        Rohit Sharma  "
      ]
     },
     "execution_count": 27,
     "metadata": {},
     "output_type": "execute_result"
    }
   ],
   "source": [
    "data.head()"
   ]
  },
  {
   "cell_type": "code",
   "execution_count": 28,
   "id": "378317dd",
   "metadata": {},
   "outputs": [
    {
     "data": {
      "text/html": [
       "<div>\n",
       "<style scoped>\n",
       "    .dataframe tbody tr th:only-of-type {\n",
       "        vertical-align: middle;\n",
       "    }\n",
       "\n",
       "    .dataframe tbody tr th {\n",
       "        vertical-align: top;\n",
       "    }\n",
       "\n",
       "    .dataframe thead th {\n",
       "        text-align: right;\n",
       "    }\n",
       "</style>\n",
       "<table border=\"1\" class=\"dataframe\">\n",
       "  <thead>\n",
       "    <tr style=\"text-align: right;\">\n",
       "      <th></th>\n",
       "      <th>Match ID</th>\n",
       "      <th>Date</th>\n",
       "      <th>Venue</th>\n",
       "      <th>Team1</th>\n",
       "      <th>Team2</th>\n",
       "      <th>Toss Winner</th>\n",
       "      <th>Toss Decision</th>\n",
       "      <th>Stage</th>\n",
       "      <th>First Innings Score</th>\n",
       "      <th>First Innings Wicket</th>\n",
       "      <th>Second Innings score</th>\n",
       "      <th>Second Innings Wicket</th>\n",
       "      <th>Match Winner</th>\n",
       "      <th>Won by</th>\n",
       "      <th>Margin</th>\n",
       "      <th>Player of the match</th>\n",
       "    </tr>\n",
       "  </thead>\n",
       "  <tbody>\n",
       "    <tr>\n",
       "      <th>55</th>\n",
       "      <td>56</td>\n",
       "      <td>03-11-2020</td>\n",
       "      <td>Sharjah Cricket Stadium, Sharjah</td>\n",
       "      <td>Mumbai Indians</td>\n",
       "      <td>Sunrisers Hyderabad</td>\n",
       "      <td>Sunrisers Hyderabad</td>\n",
       "      <td>Field</td>\n",
       "      <td>Group</td>\n",
       "      <td>149</td>\n",
       "      <td>8</td>\n",
       "      <td>151</td>\n",
       "      <td>0</td>\n",
       "      <td>Sunrisers Hyderabad</td>\n",
       "      <td>Wickets</td>\n",
       "      <td>10.0</td>\n",
       "      <td>Shahbaz Nadeem</td>\n",
       "    </tr>\n",
       "    <tr>\n",
       "      <th>56</th>\n",
       "      <td>57</td>\n",
       "      <td>05-11-2020</td>\n",
       "      <td>Dubai International Cricket Stadium, Dubai</td>\n",
       "      <td>Mumbai Indians</td>\n",
       "      <td>Delhi Capitals</td>\n",
       "      <td>Delhi Capitals</td>\n",
       "      <td>Field</td>\n",
       "      <td>Playoff</td>\n",
       "      <td>200</td>\n",
       "      <td>5</td>\n",
       "      <td>143</td>\n",
       "      <td>8</td>\n",
       "      <td>Mumbai Indians</td>\n",
       "      <td>Runs</td>\n",
       "      <td>57.0</td>\n",
       "      <td>Jasprit Bumrah</td>\n",
       "    </tr>\n",
       "    <tr>\n",
       "      <th>57</th>\n",
       "      <td>58</td>\n",
       "      <td>06-11-2020</td>\n",
       "      <td>Sheikh Zayed Cricket Stadium, Abu Dhabi</td>\n",
       "      <td>Royal Challengers Bangalore</td>\n",
       "      <td>Sunrisers Hyderabad</td>\n",
       "      <td>Sunrisers Hyderabad</td>\n",
       "      <td>Field</td>\n",
       "      <td>Playoff</td>\n",
       "      <td>131</td>\n",
       "      <td>7</td>\n",
       "      <td>132</td>\n",
       "      <td>4</td>\n",
       "      <td>Sunrisers Hyderabad</td>\n",
       "      <td>Wickets</td>\n",
       "      <td>6.0</td>\n",
       "      <td>Kane Williamson</td>\n",
       "    </tr>\n",
       "    <tr>\n",
       "      <th>58</th>\n",
       "      <td>59</td>\n",
       "      <td>08-11-2020</td>\n",
       "      <td>Sheikh Zayed Cricket Stadium, Abu Dhabi</td>\n",
       "      <td>Delhi Capitals</td>\n",
       "      <td>Sunrisers Hyderabad</td>\n",
       "      <td>Delhi Capitals</td>\n",
       "      <td>Bat</td>\n",
       "      <td>Playoff</td>\n",
       "      <td>189</td>\n",
       "      <td>3</td>\n",
       "      <td>172</td>\n",
       "      <td>8</td>\n",
       "      <td>Delhi Capitals</td>\n",
       "      <td>Runs</td>\n",
       "      <td>17.0</td>\n",
       "      <td>Marcus Stoinis</td>\n",
       "    </tr>\n",
       "    <tr>\n",
       "      <th>59</th>\n",
       "      <td>60</td>\n",
       "      <td>10-11-2020</td>\n",
       "      <td>Dubai International Cricket Stadium, Dubai</td>\n",
       "      <td>Delhi Capitals</td>\n",
       "      <td>Mumbai Indians</td>\n",
       "      <td>Delhi Capitals</td>\n",
       "      <td>Bat</td>\n",
       "      <td>Final</td>\n",
       "      <td>156</td>\n",
       "      <td>7</td>\n",
       "      <td>157</td>\n",
       "      <td>5</td>\n",
       "      <td>Mumbai Indians</td>\n",
       "      <td>Wickets</td>\n",
       "      <td>5.0</td>\n",
       "      <td>Trent Boult</td>\n",
       "    </tr>\n",
       "  </tbody>\n",
       "</table>\n",
       "</div>"
      ],
      "text/plain": [
       "    Match ID        Date                                       Venue  \\\n",
       "55        56  03-11-2020            Sharjah Cricket Stadium, Sharjah   \n",
       "56        57  05-11-2020  Dubai International Cricket Stadium, Dubai   \n",
       "57        58  06-11-2020     Sheikh Zayed Cricket Stadium, Abu Dhabi   \n",
       "58        59  08-11-2020     Sheikh Zayed Cricket Stadium, Abu Dhabi   \n",
       "59        60  10-11-2020  Dubai International Cricket Stadium, Dubai   \n",
       "\n",
       "                          Team1                Team2          Toss Winner  \\\n",
       "55               Mumbai Indians  Sunrisers Hyderabad  Sunrisers Hyderabad   \n",
       "56               Mumbai Indians       Delhi Capitals       Delhi Capitals   \n",
       "57  Royal Challengers Bangalore  Sunrisers Hyderabad  Sunrisers Hyderabad   \n",
       "58               Delhi Capitals  Sunrisers Hyderabad       Delhi Capitals   \n",
       "59               Delhi Capitals       Mumbai Indians       Delhi Capitals   \n",
       "\n",
       "   Toss Decision    Stage  First Innings Score  First Innings Wicket  \\\n",
       "55         Field    Group                  149                     8   \n",
       "56         Field  Playoff                  200                     5   \n",
       "57         Field  Playoff                  131                     7   \n",
       "58           Bat  Playoff                  189                     3   \n",
       "59           Bat    Final                  156                     7   \n",
       "\n",
       "    Second Innings score  Second Innings Wicket         Match Winner   Won by  \\\n",
       "55                   151                      0  Sunrisers Hyderabad  Wickets   \n",
       "56                   143                      8       Mumbai Indians     Runs   \n",
       "57                   132                      4  Sunrisers Hyderabad  Wickets   \n",
       "58                   172                      8       Delhi Capitals     Runs   \n",
       "59                   157                      5       Mumbai Indians  Wickets   \n",
       "\n",
       "    Margin Player of the match  \n",
       "55    10.0      Shahbaz Nadeem  \n",
       "56    57.0      Jasprit Bumrah  \n",
       "57     6.0     Kane Williamson  \n",
       "58    17.0      Marcus Stoinis  \n",
       "59     5.0         Trent Boult  "
      ]
     },
     "execution_count": 28,
     "metadata": {},
     "output_type": "execute_result"
    }
   ],
   "source": [
    "data.tail()"
   ]
  },
  {
   "cell_type": "code",
   "execution_count": 29,
   "id": "af40ad7c",
   "metadata": {},
   "outputs": [
    {
     "data": {
      "text/plain": [
       "(60, 16)"
      ]
     },
     "execution_count": 29,
     "metadata": {},
     "output_type": "execute_result"
    }
   ],
   "source": [
    "data.shape"
   ]
  },
  {
   "cell_type": "code",
   "execution_count": 30,
   "id": "c79eb4d8",
   "metadata": {},
   "outputs": [
    {
     "name": "stdout",
     "output_type": "stream",
     "text": [
      "<class 'pandas.core.frame.DataFrame'>\n",
      "RangeIndex: 60 entries, 0 to 59\n",
      "Data columns (total 16 columns):\n",
      " #   Column                 Non-Null Count  Dtype  \n",
      "---  ------                 --------------  -----  \n",
      " 0   Match ID               60 non-null     int64  \n",
      " 1   Date                   60 non-null     object \n",
      " 2   Venue                  60 non-null     object \n",
      " 3   Team1                  60 non-null     object \n",
      " 4   Team2                  60 non-null     object \n",
      " 5   Toss Winner            60 non-null     object \n",
      " 6   Toss Decision          60 non-null     object \n",
      " 7   Stage                  60 non-null     object \n",
      " 8   First Innings Score    60 non-null     int64  \n",
      " 9   First Innings Wicket   60 non-null     int64  \n",
      " 10  Second Innings score   60 non-null     int64  \n",
      " 11  Second Innings Wicket  60 non-null     int64  \n",
      " 12  Match Winner           60 non-null     object \n",
      " 13  Won by                 60 non-null     object \n",
      " 14  Margin                 56 non-null     float64\n",
      " 15  Player of the match    60 non-null     object \n",
      "dtypes: float64(1), int64(5), object(10)\n",
      "memory usage: 7.6+ KB\n"
     ]
    }
   ],
   "source": [
    "data.info()"
   ]
  },
  {
   "cell_type": "markdown",
   "id": "c010a000",
   "metadata": {},
   "source": [
    "# Most win in Ipl 2020"
   ]
  },
  {
   "cell_type": "code",
   "execution_count": 31,
   "id": "58dd3ad3",
   "metadata": {},
   "outputs": [
    {
     "data": {
      "image/png": "[encoded data removed]",
      "text/plain": [
       "<Figure size 1440x864 with 1 Axes>"
      ]
     },
     "metadata": {},
     "output_type": "display_data"
    }
   ],
   "source": [
    "temp=pd.DataFrame({'Winner':data['Match Winner']})\n",
    "count_wins=temp.value_counts()\n",
    "#print(count_wins)\n",
    "labels=[x[0] for x in count_wins.keys()]\n",
    "#print(labels)\n",
    "bar,axis=plt.subplots(figsize=(20,12))\n",
    "axis=plt.pie(x=count_wins,autopct=\"%.1f%%\",labels=labels)\n",
    "plt.title(\"Most Wins in Ipl 2020\")\n",
    "plt.show()"
   ]
  },
  {
   "cell_type": "markdown",
   "id": "963f3de3",
   "metadata": {},
   "source": [
    "# Most Wins IPL 2020 in Group Matches"
   ]
  },
  {
   "cell_type": "code",
   "execution_count": 34,
   "id": "3ed844c3",
   "metadata": {},
   "outputs": [
    {
     "data": {
      "image/png": "[encoded data removed]",
      "text/plain": [
       "<Figure size 432x288 with 1 Axes>"
      ]
     },
     "metadata": {
      "needs_background": "light"
     },
     "output_type": "display_data"
    }
   ],
   "source": [
    "sns.countplot(x=data['Match Winner'][data['Stage']=='Group'],data=data)\n",
    "plt.title(\"Most Wins in Ipl 2020 in groups matches\")\n",
    "plt.xticks(rotation=90)\n",
    "plt.show()"
   ]
  },
  {
   "cell_type": "markdown",
   "id": "edeff894",
   "metadata": {},
   "source": [
    "# Most Wins IPL 2020 in playoff matches"
   ]
  },
  {
   "cell_type": "code",
   "execution_count": 35,
   "id": "85638b5b",
   "metadata": {},
   "outputs": [
    {
     "data": {
      "image/png": "[encoded data removed]",
      "text/plain": [
       "<Figure size 432x288 with 1 Axes>"
      ]
     },
     "metadata": {
      "needs_background": "light"
     },
     "output_type": "display_data"
    }
   ],
   "source": [
    "sns.countplot(x=data['Match Winner'][data['Stage']=='Playoff'],data=data)\n",
    "plt.title(\"Most Wins in Ipl 2020 in groups matches\")\n",
    "plt.xticks(rotation=90)\n",
    "plt.show()"
   ]
  },
  {
   "cell_type": "markdown",
   "id": "e3473899",
   "metadata": {},
   "source": [
    "# Toss Decision"
   ]
  },
  {
   "cell_type": "code",
   "execution_count": 42,
   "id": "100e90db",
   "metadata": {
    "scrolled": true
   },
   "outputs": [
    {
     "name": "stderr",
     "output_type": "stream",
     "text": [
      "C:\\Users\\91776\\AppData\\Local\\Temp\\ipykernel_21664\\3910768023.py:9: FutureWarning: The frame.append method is deprecated and will be removed from pandas in a future version. Use pandas.concat instead.\n",
      "  decision_making=decision_making.append({'Toss Winner':element,'Decision':'Bat','Times':temp_bat['Toss Winner'].count()},ignore_index=True)\n",
      "C:\\Users\\91776\\AppData\\Local\\Temp\\ipykernel_21664\\3910768023.py:10: FutureWarning: The frame.append method is deprecated and will be removed from pandas in a future version. Use pandas.concat instead.\n",
      "  decision_making=decision_making.append({'Toss Winner':element,'Decision':'Field','Times':temp_field['Toss Winner'].count()},ignore_index=True)\n",
      "C:\\Users\\91776\\AppData\\Local\\Temp\\ipykernel_21664\\3910768023.py:9: FutureWarning: The frame.append method is deprecated and will be removed from pandas in a future version. Use pandas.concat instead.\n",
      "  decision_making=decision_making.append({'Toss Winner':element,'Decision':'Bat','Times':temp_bat['Toss Winner'].count()},ignore_index=True)\n",
      "C:\\Users\\91776\\AppData\\Local\\Temp\\ipykernel_21664\\3910768023.py:10: FutureWarning: The frame.append method is deprecated and will be removed from pandas in a future version. Use pandas.concat instead.\n",
      "  decision_making=decision_making.append({'Toss Winner':element,'Decision':'Field','Times':temp_field['Toss Winner'].count()},ignore_index=True)\n",
      "C:\\Users\\91776\\AppData\\Local\\Temp\\ipykernel_21664\\3910768023.py:9: FutureWarning: The frame.append method is deprecated and will be removed from pandas in a future version. Use pandas.concat instead.\n",
      "  decision_making=decision_making.append({'Toss Winner':element,'Decision':'Bat','Times':temp_bat['Toss Winner'].count()},ignore_index=True)\n",
      "C:\\Users\\91776\\AppData\\Local\\Temp\\ipykernel_21664\\3910768023.py:10: FutureWarning: The frame.append method is deprecated and will be removed from pandas in a future version. Use pandas.concat instead.\n",
      "  decision_making=decision_making.append({'Toss Winner':element,'Decision':'Field','Times':temp_field['Toss Winner'].count()},ignore_index=True)\n",
      "C:\\Users\\91776\\AppData\\Local\\Temp\\ipykernel_21664\\3910768023.py:9: FutureWarning: The frame.append method is deprecated and will be removed from pandas in a future version. Use pandas.concat instead.\n",
      "  decision_making=decision_making.append({'Toss Winner':element,'Decision':'Bat','Times':temp_bat['Toss Winner'].count()},ignore_index=True)\n",
      "C:\\Users\\91776\\AppData\\Local\\Temp\\ipykernel_21664\\3910768023.py:10: FutureWarning: The frame.append method is deprecated and will be removed from pandas in a future version. Use pandas.concat instead.\n",
      "  decision_making=decision_making.append({'Toss Winner':element,'Decision':'Field','Times':temp_field['Toss Winner'].count()},ignore_index=True)\n",
      "C:\\Users\\91776\\AppData\\Local\\Temp\\ipykernel_21664\\3910768023.py:9: FutureWarning: The frame.append method is deprecated and will be removed from pandas in a future version. Use pandas.concat instead.\n",
      "  decision_making=decision_making.append({'Toss Winner':element,'Decision':'Bat','Times':temp_bat['Toss Winner'].count()},ignore_index=True)\n",
      "C:\\Users\\91776\\AppData\\Local\\Temp\\ipykernel_21664\\3910768023.py:10: FutureWarning: The frame.append method is deprecated and will be removed from pandas in a future version. Use pandas.concat instead.\n",
      "  decision_making=decision_making.append({'Toss Winner':element,'Decision':'Field','Times':temp_field['Toss Winner'].count()},ignore_index=True)\n",
      "C:\\Users\\91776\\AppData\\Local\\Temp\\ipykernel_21664\\3910768023.py:9: FutureWarning: The frame.append method is deprecated and will be removed from pandas in a future version. Use pandas.concat instead.\n",
      "  decision_making=decision_making.append({'Toss Winner':element,'Decision':'Bat','Times':temp_bat['Toss Winner'].count()},ignore_index=True)\n",
      "C:\\Users\\91776\\AppData\\Local\\Temp\\ipykernel_21664\\3910768023.py:10: FutureWarning: The frame.append method is deprecated and will be removed from pandas in a future version. Use pandas.concat instead.\n",
      "  decision_making=decision_making.append({'Toss Winner':element,'Decision':'Field','Times':temp_field['Toss Winner'].count()},ignore_index=True)\n",
      "C:\\Users\\91776\\AppData\\Local\\Temp\\ipykernel_21664\\3910768023.py:9: FutureWarning: The frame.append method is deprecated and will be removed from pandas in a future version. Use pandas.concat instead.\n",
      "  decision_making=decision_making.append({'Toss Winner':element,'Decision':'Bat','Times':temp_bat['Toss Winner'].count()},ignore_index=True)\n",
      "C:\\Users\\91776\\AppData\\Local\\Temp\\ipykernel_21664\\3910768023.py:10: FutureWarning: The frame.append method is deprecated and will be removed from pandas in a future version. Use pandas.concat instead.\n",
      "  decision_making=decision_making.append({'Toss Winner':element,'Decision':'Field','Times':temp_field['Toss Winner'].count()},ignore_index=True)\n",
      "C:\\Users\\91776\\AppData\\Local\\Temp\\ipykernel_21664\\3910768023.py:9: FutureWarning: The frame.append method is deprecated and will be removed from pandas in a future version. Use pandas.concat instead.\n",
      "  decision_making=decision_making.append({'Toss Winner':element,'Decision':'Bat','Times':temp_bat['Toss Winner'].count()},ignore_index=True)\n",
      "C:\\Users\\91776\\AppData\\Local\\Temp\\ipykernel_21664\\3910768023.py:10: FutureWarning: The frame.append method is deprecated and will be removed from pandas in a future version. Use pandas.concat instead.\n",
      "  decision_making=decision_making.append({'Toss Winner':element,'Decision':'Field','Times':temp_field['Toss Winner'].count()},ignore_index=True)\n"
     ]
    }
   ],
   "source": [
    "teams=data['Toss Winner'].unique()\n",
    "#print(teams)\n",
    "decision_making=pd.DataFrame([],columns=['Toss Winner','Decision','Times'])\n",
    "\n",
    "for id,element in enumerate(teams):\n",
    "    temp_bat=data[(data['Toss Winner']==element) & (data['Toss Decision']=='Bat')]\n",
    "    temp_field=data[(data['Toss Winner']==element) & (data['Toss Decision']=='Field')]\n",
    "    \n",
    "    decision_making=decision_making.append({'Toss Winner':element,'Decision':'Bat','Times':temp_bat['Toss Winner'].count()},ignore_index=True)\n",
    "    decision_making=decision_making.append({'Toss Winner':element,'Decision':'Field','Times':temp_field['Toss Winner'].count()},ignore_index=True)"
   ]
  },
  {
   "cell_type": "code",
   "execution_count": 43,
   "id": "902fb14c",
   "metadata": {},
   "outputs": [
    {
     "data": {
      "text/html": [
       "<div>\n",
       "<style scoped>\n",
       "    .dataframe tbody tr th:only-of-type {\n",
       "        vertical-align: middle;\n",
       "    }\n",
       "\n",
       "    .dataframe tbody tr th {\n",
       "        vertical-align: top;\n",
       "    }\n",
       "\n",
       "    .dataframe thead th {\n",
       "        text-align: right;\n",
       "    }\n",
       "</style>\n",
       "<table border=\"1\" class=\"dataframe\">\n",
       "  <thead>\n",
       "    <tr style=\"text-align: right;\">\n",
       "      <th></th>\n",
       "      <th>Toss Winner</th>\n",
       "      <th>Decision</th>\n",
       "      <th>Times</th>\n",
       "    </tr>\n",
       "  </thead>\n",
       "  <tbody>\n",
       "    <tr>\n",
       "      <th>0</th>\n",
       "      <td>Chennai Super Kings</td>\n",
       "      <td>Bat</td>\n",
       "      <td>3</td>\n",
       "    </tr>\n",
       "    <tr>\n",
       "      <th>1</th>\n",
       "      <td>Chennai Super Kings</td>\n",
       "      <td>Field</td>\n",
       "      <td>5</td>\n",
       "    </tr>\n",
       "    <tr>\n",
       "      <th>2</th>\n",
       "      <td>Kings XI Punjab</td>\n",
       "      <td>Bat</td>\n",
       "      <td>1</td>\n",
       "    </tr>\n",
       "    <tr>\n",
       "      <th>3</th>\n",
       "      <td>Kings XI Punjab</td>\n",
       "      <td>Field</td>\n",
       "      <td>3</td>\n",
       "    </tr>\n",
       "    <tr>\n",
       "      <th>4</th>\n",
       "      <td>Sunrisers Hyderabad</td>\n",
       "      <td>Bat</td>\n",
       "      <td>4</td>\n",
       "    </tr>\n",
       "    <tr>\n",
       "      <th>5</th>\n",
       "      <td>Sunrisers Hyderabad</td>\n",
       "      <td>Field</td>\n",
       "      <td>7</td>\n",
       "    </tr>\n",
       "    <tr>\n",
       "      <th>6</th>\n",
       "      <td>Kolkata Knight Riders</td>\n",
       "      <td>Bat</td>\n",
       "      <td>4</td>\n",
       "    </tr>\n",
       "    <tr>\n",
       "      <th>7</th>\n",
       "      <td>Kolkata Knight Riders</td>\n",
       "      <td>Field</td>\n",
       "      <td>2</td>\n",
       "    </tr>\n",
       "    <tr>\n",
       "      <th>8</th>\n",
       "      <td>Royal Challengers Bangalore</td>\n",
       "      <td>Bat</td>\n",
       "      <td>4</td>\n",
       "    </tr>\n",
       "    <tr>\n",
       "      <th>9</th>\n",
       "      <td>Royal Challengers Bangalore</td>\n",
       "      <td>Field</td>\n",
       "      <td>2</td>\n",
       "    </tr>\n",
       "    <tr>\n",
       "      <th>10</th>\n",
       "      <td>Rajasthan Royals</td>\n",
       "      <td>Bat</td>\n",
       "      <td>2</td>\n",
       "    </tr>\n",
       "    <tr>\n",
       "      <th>11</th>\n",
       "      <td>Rajasthan Royals</td>\n",
       "      <td>Field</td>\n",
       "      <td>5</td>\n",
       "    </tr>\n",
       "    <tr>\n",
       "      <th>12</th>\n",
       "      <td>Mumbai Indians</td>\n",
       "      <td>Bat</td>\n",
       "      <td>4</td>\n",
       "    </tr>\n",
       "    <tr>\n",
       "      <th>13</th>\n",
       "      <td>Mumbai Indians</td>\n",
       "      <td>Field</td>\n",
       "      <td>4</td>\n",
       "    </tr>\n",
       "    <tr>\n",
       "      <th>14</th>\n",
       "      <td>Delhi Capitals</td>\n",
       "      <td>Bat</td>\n",
       "      <td>5</td>\n",
       "    </tr>\n",
       "    <tr>\n",
       "      <th>15</th>\n",
       "      <td>Delhi Capitals</td>\n",
       "      <td>Field</td>\n",
       "      <td>5</td>\n",
       "    </tr>\n",
       "  </tbody>\n",
       "</table>\n",
       "</div>"
      ],
      "text/plain": [
       "                    Toss Winner Decision Times\n",
       "0           Chennai Super Kings      Bat     3\n",
       "1           Chennai Super Kings    Field     5\n",
       "2               Kings XI Punjab      Bat     1\n",
       "3               Kings XI Punjab    Field     3\n",
       "4           Sunrisers Hyderabad      Bat     4\n",
       "5           Sunrisers Hyderabad    Field     7\n",
       "6         Kolkata Knight Riders      Bat     4\n",
       "7         Kolkata Knight Riders    Field     2\n",
       "8   Royal Challengers Bangalore      Bat     4\n",
       "9   Royal Challengers Bangalore    Field     2\n",
       "10             Rajasthan Royals      Bat     2\n",
       "11             Rajasthan Royals    Field     5\n",
       "12               Mumbai Indians      Bat     4\n",
       "13               Mumbai Indians    Field     4\n",
       "14               Delhi Capitals      Bat     5\n",
       "15               Delhi Capitals    Field     5"
      ]
     },
     "execution_count": 43,
     "metadata": {},
     "output_type": "execute_result"
    }
   ],
   "source": [
    "decision_making"
   ]
  },
  {
   "cell_type": "code",
   "execution_count": 47,
   "id": "54d8f8cc",
   "metadata": {},
   "outputs": [
    {
     "data": {
      "image/png": "[encoded data removed]",
      "text/plain": [
       "<Figure size 419.25x360 with 1 Axes>"
      ]
     },
     "metadata": {
      "needs_background": "light"
     },
     "output_type": "display_data"
    }
   ],
   "source": [
    "sns.catplot(x='Toss Winner',y='Times',hue='Decision',data=decision_making,kind='bar')\n",
    "plt.xticks(rotation=90)\n",
    "plt.xlabel(\"Toss Teams\")\n",
    "plt.ylabel(\"Toss Decision\")\n",
    "plt.show()"
   ]
  },
  {
   "cell_type": "code",
   "execution_count": 9,
   "id": "c46c6212",
   "metadata": {},
   "outputs": [
    {
     "data": {
      "text/html": [
       "<div>\n",
       "<style scoped>\n",
       "    .dataframe tbody tr th:only-of-type {\n",
       "        vertical-align: middle;\n",
       "    }\n",
       "\n",
       "    .dataframe tbody tr th {\n",
       "        vertical-align: top;\n",
       "    }\n",
       "\n",
       "    .dataframe thead th {\n",
       "        text-align: right;\n",
       "    }\n",
       "</style>\n",
       "<table border=\"1\" class=\"dataframe\">\n",
       "  <thead>\n",
       "    <tr style=\"text-align: right;\">\n",
       "      <th></th>\n",
       "      <th>Match ID</th>\n",
       "      <th>First Innings Score</th>\n",
       "      <th>First Innings Wicket</th>\n",
       "      <th>Second Innings score</th>\n",
       "      <th>Second Innings Wicket</th>\n",
       "      <th>Margin</th>\n",
       "    </tr>\n",
       "  </thead>\n",
       "  <tbody>\n",
       "    <tr>\n",
       "      <th>Match ID</th>\n",
       "      <td>1.000000</td>\n",
       "      <td>-0.339032</td>\n",
       "      <td>0.244905</td>\n",
       "      <td>-0.174389</td>\n",
       "      <td>-0.336457</td>\n",
       "      <td>-0.185466</td>\n",
       "    </tr>\n",
       "    <tr>\n",
       "      <th>First Innings Score</th>\n",
       "      <td>-0.339032</td>\n",
       "      <td>1.000000</td>\n",
       "      <td>-0.563004</td>\n",
       "      <td>0.509283</td>\n",
       "      <td>0.544508</td>\n",
       "      <td>0.557735</td>\n",
       "    </tr>\n",
       "    <tr>\n",
       "      <th>First Innings Wicket</th>\n",
       "      <td>0.244905</td>\n",
       "      <td>-0.563004</td>\n",
       "      <td>1.000000</td>\n",
       "      <td>-0.246564</td>\n",
       "      <td>-0.321922</td>\n",
       "      <td>-0.375840</td>\n",
       "    </tr>\n",
       "    <tr>\n",
       "      <th>Second Innings score</th>\n",
       "      <td>-0.174389</td>\n",
       "      <td>0.509283</td>\n",
       "      <td>-0.246564</td>\n",
       "      <td>1.000000</td>\n",
       "      <td>-0.185371</td>\n",
       "      <td>-0.430469</td>\n",
       "    </tr>\n",
       "    <tr>\n",
       "      <th>Second Innings Wicket</th>\n",
       "      <td>-0.336457</td>\n",
       "      <td>0.544508</td>\n",
       "      <td>-0.321922</td>\n",
       "      <td>-0.185371</td>\n",
       "      <td>1.000000</td>\n",
       "      <td>0.701797</td>\n",
       "    </tr>\n",
       "    <tr>\n",
       "      <th>Margin</th>\n",
       "      <td>-0.185466</td>\n",
       "      <td>0.557735</td>\n",
       "      <td>-0.375840</td>\n",
       "      <td>-0.430469</td>\n",
       "      <td>0.701797</td>\n",
       "      <td>1.000000</td>\n",
       "    </tr>\n",
       "  </tbody>\n",
       "</table>\n",
       "</div>"
      ],
      "text/plain": [
       "                       Match ID  First Innings Score  First Innings Wicket  \\\n",
       "Match ID               1.000000            -0.339032              0.244905   \n",
       "First Innings Score   -0.339032             1.000000             -0.563004   \n",
       "First Innings Wicket   0.244905            -0.563004              1.000000   \n",
       "Second Innings score  -0.174389             0.509283             -0.246564   \n",
       "Second Innings Wicket -0.336457             0.544508             -0.321922   \n",
       "Margin                -0.185466             0.557735             -0.375840   \n",
       "\n",
       "                       Second Innings score  Second Innings Wicket    Margin  \n",
       "Match ID                          -0.174389              -0.336457 -0.185466  \n",
       "First Innings Score                0.509283               0.544508  0.557735  \n",
       "First Innings Wicket              -0.246564              -0.321922 -0.375840  \n",
       "Second Innings score               1.000000              -0.185371 -0.430469  \n",
       "Second Innings Wicket             -0.185371               1.000000  0.701797  \n",
       "Margin                            -0.430469               0.701797  1.000000  "
      ]
     },
     "execution_count": 9,
     "metadata": {},
     "output_type": "execute_result"
    }
   ],
   "source": [
    "data.corr()"
   ]
  },
  {
   "cell_type": "code",
   "execution_count": 48,
   "id": "e7d3cc70",
   "metadata": {},
   "outputs": [
    {
     "data": {
      "text/plain": [
       "Match ID  Date        Venue                                       Team1                        Team2                        Toss Winner                  Toss Decision  Stage    First Innings Score  First Innings Wicket  Second Innings score  Second Innings Wicket  Match Winner                 Won by   Margin  Player of the match\n",
       "1         19-09-2020  Sheikh Zayed Cricket Stadium, Abu Dhabi     Mumbai Indians               Chennai Super Kings          Chennai Super Kings          Field          Group    162                  9                     166                   5                      Chennai Super Kings          Wickets  5.0     Ambati Rayudu          1\n",
       "3         21-09-2020  Dubai International Cricket Stadium, Dubai  Royal Challengers Bangalore  Sunrisers Hyderabad          Sunrisers Hyderabad          Field          Group    163                  5                     153                   10                     Royal Challengers Bangalore  Runs     10.0    Yuzvendra Chahal       1\n",
       "33        17-10-2020  Dubai International Cricket Stadium, Dubai  Rajasthan Royals             Royal Challengers Bangalore  Rajasthan Royals             Bat            Group    177                  6                     179                   3                      Royal Challengers Bangalore  Wickets  7.0     AB de Villiers         1\n",
       "34        17-10-2020  Sharjah Cricket Stadium, Sharjah            Chennai Super Kings          Delhi Capitals               Chennai Super Kings          Bat            Group    179                  4                     185                   5                      Delhi Capitals               Wickets  5.0     Shikhar Dhawan         1\n",
       "37        19-10-2020  Sheikh Zayed Cricket Stadium, Abu Dhabi     Chennai Super Kings          Rajasthan Royals             Chennai Super Kings          Bat            Group    125                  5                     126                   3                      Rajasthan Royals             Wickets  7.0     Jos Buttler            1\n",
       "38        20-10-2020  Dubai International Cricket Stadium, Dubai  Delhi Capitals               Kings XI Punjab              Delhi Capitals               Bat            Group    164                  5                     167                   5                      Kings XI Punjab              Wickets  5.0     Shikhar Dhawan         1\n",
       "39        21-10-2020  Sheikh Zayed Cricket Stadium, Abu Dhabi     Kolkata Knight Riders        Royal Challengers Bangalore  Kolkata Knight Riders        Bat            Group    84                   8                     85                    2                      Royal Challengers Bangalore  Wickets  8.0     Mohammed Siraj         1\n",
       "40        22-10-2020  Dubai International Cricket Stadium, Dubai  Rajasthan Royals             Sunrisers Hyderabad          Sunrisers Hyderabad          Field          Group    154                  6                     156                   2                      Sunrisers Hyderabad          Wickets  8.0     Manish Pandey          1\n",
       "41        23-10-2020  Sharjah Cricket Stadium, Sharjah            Chennai Super Kings          Mumbai Indians               Mumbai Indians               Field          Group    114                  9                     116                   0                      Mumbai Indians               Wickets  10.0    Trent Boult            1\n",
       "42        24-10-2020  Sheikh Zayed Cricket Stadium, Abu Dhabi     Kolkata Knight Riders        Delhi Capitals               Delhi Capitals               Field          Group    194                  6                     135                   9                      Kolkata Knight Riders        Runs     59.0    Varun Chakravarthy     1\n",
       "43        24-10-2020  Dubai International Cricket Stadium, Dubai  Kings XI Punjab              Sunrisers Hyderabad          Sunrisers Hyderabad          Field          Group    126                  7                     114                   10                     Kings XI Punjab              Runs     12.0    Chris Jordan           1\n",
       "44        25-10-2020  Dubai International Cricket Stadium, Dubai  Royal Challengers Bangalore  Chennai Super Kings          Royal Challengers Bangalore  Bat            Group    145                  6                     150                   2                      Chennai Super Kings          Wickets  8.0     Ruturaj Gaikwad        1\n",
       "45        25-10-2020  Sheikh Zayed Cricket Stadium, Abu Dhabi     Mumbai Indians               Rajasthan Royals             Mumbai Indians               Bat            Group    195                  5                     196                   2                      Rajasthan Royals             Wickets  8.0     Ben Stokes             1\n",
       "46        26-10-2020  Sharjah Cricket Stadium, Sharjah            Kolkata Knight Riders        Kings XI Punjab              Kings XI Punjab              Field          Group    149                  9                     150                   2                      Kings XI Punjab              Wickets  8.0     Chris Gayle            1\n",
       "47        27-10-2020  Dubai International Cricket Stadium, Dubai  Sunrisers Hyderabad          Delhi Capitals               Delhi Capitals               Field          Group    219                  2                     131                   10                     Sunrisers Hyderabad          Runs     88.0    Wriddhiman Saha        1\n",
       "48        28-10-2020  Sheikh Zayed Cricket Stadium, Abu Dhabi     Royal Challengers Bangalore  Mumbai Indians               Mumbai Indians               Field          Group    164                  6                     166                   5                      Mumbai Indians               Wickets  5.0     Suryakumar Yadav       1\n",
       "49        29-10-2020  Dubai International Cricket Stadium, Dubai  Kolkata Knight Riders        Chennai Super Kings          Chennai Super Kings          Field          Group    172                  5                     178                   4                      Chennai Super Kings          Wickets  6.0     Ruturaj Gaikwad        1\n",
       "50        30-10-2020  Sheikh Zayed Cricket Stadium, Abu Dhabi     Kings XI Punjab              Rajasthan Royals             Rajasthan Royals             Field          Group    185                  4                     186                   3                      Rajasthan Royals             Wickets  7.0     Ben Stokes             1\n",
       "51        31-10-2020  Dubai International Cricket Stadium, Dubai  Delhi Capitals               Mumbai Indians               Mumbai Indians               Field          Group    110                  9                     111                   1                      Mumbai Indians               Wickets  9.0     Ishan Kishan           1\n",
       "52        31-10-2020  Sharjah Cricket Stadium, Sharjah            Royal Challengers Bangalore  Sunrisers Hyderabad          Sunrisers Hyderabad          Field          Group    120                  7                     121                   5                      Sunrisers Hyderabad          Wickets  5.0     Sandeep Sharma         1\n",
       "53        01-11-2020  Sheikh Zayed Cricket Stadium, Abu Dhabi     Kings XI Punjab              Chennai Super Kings          Chennai Super Kings          Field          Group    153                  6                     154                   1                      Chennai Super Kings          Wickets  9.0     Ruturaj Gaikwad        1\n",
       "54        01-11-2020  Dubai International Cricket Stadium, Dubai  Kolkata Knight Riders        Rajasthan Royals             Rajasthan Royals             Field          Group    191                  7                     131                   9                      Kolkata Knight Riders        Runs     60.0    Pat Cummins            1\n",
       "55        02-11-2020  Sheikh Zayed Cricket Stadium, Abu Dhabi     Royal Challengers Bangalore  Delhi Capitals               Delhi Capitals               Field          Group    152                  7                     154                   4                      Delhi Capitals               Wickets  6.0     Anrich Nortje          1\n",
       "56        03-11-2020  Sharjah Cricket Stadium, Sharjah            Mumbai Indians               Sunrisers Hyderabad          Sunrisers Hyderabad          Field          Group    149                  8                     151                   0                      Sunrisers Hyderabad          Wickets  10.0    Shahbaz Nadeem         1\n",
       "57        05-11-2020  Dubai International Cricket Stadium, Dubai  Mumbai Indians               Delhi Capitals               Delhi Capitals               Field          Playoff  200                  5                     143                   8                      Mumbai Indians               Runs     57.0    Jasprit Bumrah         1\n",
       "58        06-11-2020  Sheikh Zayed Cricket Stadium, Abu Dhabi     Royal Challengers Bangalore  Sunrisers Hyderabad          Sunrisers Hyderabad          Field          Playoff  131                  7                     132                   4                      Sunrisers Hyderabad          Wickets  6.0     Kane Williamson        1\n",
       "59        08-11-2020  Sheikh Zayed Cricket Stadium, Abu Dhabi     Delhi Capitals               Sunrisers Hyderabad          Delhi Capitals               Bat            Playoff  189                  3                     172                   8                      Delhi Capitals               Runs     17.0    Marcus Stoinis         1\n",
       "32        16-10-2020  Sheikh Zayed Cricket Stadium, Abu Dhabi     Kolkata Knight Riders        Mumbai Indians               Kolkata Knight Riders        Bat            Group    148                  5                     149                   2                      Mumbai Indians               Wickets  8.0     Quinton de Kock        1\n",
       "31        15-10-2020  Sharjah Cricket Stadium, Sharjah            Royal Challengers Bangalore  Kings XI Punjab              Royal Challengers Bangalore  Bat            Group    171                  6                     177                   2                      Kings XI Punjab              Wickets  8.0     K. L. Rahul            1\n",
       "30        14-10-2020  Dubai International Cricket Stadium, Dubai  Delhi Capitals               Rajasthan Royals             Delhi Capitals               Bat            Group    161                  7                     148                   8                      Delhi Capitals               Runs     13.0    Anrich Nortje          1\n",
       "16        03-10-2020  Sharjah Cricket Stadium, Sharjah            Delhi Capitals               Kolkata Knight Riders        Kolkata Knight Riders        Field          Group    228                  4                     210                   8                      Delhi Capitals               Runs     18.0    Shreyas Iyer           1\n",
       "4         22-09-2020  Sharjah Cricket Stadium, Sharjah            Rajasthan Royals             Chennai Super Kings          Chennai Super Kings          Field          Group    216                  7                     200                   6                      Rajasthan Royals             Runs     16.0    Sanju Samson           1\n",
       "5         23-09-2020  Sheikh Zayed Cricket Stadium, Abu Dhabi     Mumbai Indians               Kolkata Knight Riders        Kolkata Knight Riders        Field          Group    195                  5                     146                   9                      Mumbai Indians               Runs     49.0    Rohit Sharma           1\n",
       "6         24-09-2020  Dubai International Cricket Stadium, Dubai  Kings XI Punjab              Royal Challengers Bangalore  Royal Challengers Bangalore  Field          Group    206                  3                     109                   10                     Kings XI Punjab              Runs     97.0    K. L. Rahul            1\n",
       "7         25-09-2020  Dubai International Cricket Stadium, Dubai  Delhi Capitals               Chennai Super Kings          Chennai Super Kings          Field          Group    175                  3                     131                   7                      Delhi Capitals               Runs     44.0    Prithvi Shaw           1\n",
       "8         26-09-2020  Sheikh Zayed Cricket Stadium, Abu Dhabi     Sunrisers Hyderabad          Kolkata Knight Riders        Sunrisers Hyderabad          Bat            Group    142                  4                     145                   3                      Kolkata Knight Riders        Wickets  7.0     Shubman Gill           1\n",
       "9         27-09-2020  Sharjah Cricket Stadium, Sharjah            Kings XI Punjab              Rajasthan Royals             Rajasthan Royals             Field          Group    223                  2                     226                   6                      Rajasthan Royals             Wickets  4.0     Sanju Samson           1\n",
       "11        29-09-2020  Sheikh Zayed Cricket Stadium, Abu Dhabi     Sunrisers Hyderabad          Delhi Capitals               Delhi Capitals               Field          Group    162                  4                     147                   7                      Sunrisers Hyderabad          Runs     15.0    Rashid Khan            1\n",
       "12        30-09-2020  Dubai International Cricket Stadium, Dubai  Kolkata Knight Riders        Rajasthan Royals             Rajasthan Royals             Field          Group    174                  6                     137                   9                      Kolkata Knight Riders        Runs     37.0    Shivam Mavi            1\n",
       "13        01-10-2020  Sheikh Zayed Cricket Stadium, Abu Dhabi     Mumbai Indians               Kings XI Punjab              Kings XI Punjab              Field          Group    191                  4                     143                   8                      Mumbai Indians               Runs     48.0    Kieron Pollard         1\n",
       "14        02-10-2020  Dubai International Cricket Stadium, Dubai  Sunrisers Hyderabad          Chennai Super Kings          Sunrisers Hyderabad          Bat            Group    164                  5                     157                   5                      Sunrisers Hyderabad          Runs     7.0     Priyam Garg            1\n",
       "15        03-10-2020  Sheikh Zayed Cricket Stadium, Abu Dhabi     Rajasthan Royals             Royal Challengers Bangalore  Rajasthan Royals             Bat            Group    154                  6                     158                   2                      Royal Challengers Bangalore  Wickets  8.0     Yuzvendra Chahal       1\n",
       "17        04-10-2020  Sharjah Cricket Stadium, Sharjah            Mumbai Indians               Sunrisers Hyderabad          Mumbai Indians               Bat            Group    208                  5                     174                   7                      Mumbai Indians               Runs     34.0    Trent Boult            1\n",
       "29        13-10-2020  Dubai International Cricket Stadium, Dubai  Chennai Super Kings          Sunrisers Hyderabad          Chennai Super Kings          Bat            Group    167                  6                     147                   8                      Chennai Super Kings          Runs     20.0    Ravindra Jadeja        1\n",
       "18        04-10-2020  Dubai International Cricket Stadium, Dubai  Kings XI Punjab              Chennai Super Kings          Kings XI Punjab              Bat            Group    178                  4                     181                   0                      Chennai Super Kings          Wickets  10.0    Shane Watson           1\n",
       "19        05-10-2020  Dubai International Cricket Stadium, Dubai  Delhi Capitals               Royal Challengers Bangalore  Royal Challengers Bangalore  Field          Group    196                  4                     137                   9                      Delhi Capitals               Runs     59.0    Axar Patel             1\n",
       "20        06-10-2020  Sheikh Zayed Cricket Stadium, Abu Dhabi     Mumbai Indians               Rajasthan Royals             Mumbai Indians               Bat            Group    193                  4                     136                   10                     Mumbai Indians               Runs     57.0    Suryakumar Yadav       1\n",
       "21        07-10-2020  Sheikh Zayed Cricket Stadium, Abu Dhabi     Kolkata Knight Riders        Chennai Super Kings          Kolkata Knight Riders        Bat            Group    167                  10                    157                   5                      Kolkata Knight Riders        Runs     10.0    Rahul Tripathi         1\n",
       "22        08-10-2020  Dubai International Cricket Stadium, Dubai  Sunrisers Hyderabad          Kings XI Punjab              Sunrisers Hyderabad          Bat            Group    201                  6                     132                   10                     Sunrisers Hyderabad          Runs     69.0    Jonny Bairstow         1\n",
       "23        09-10-2020  Sharjah Cricket Stadium, Sharjah            Delhi Capitals               Rajasthan Royals             Rajasthan Royals             Field          Group    184                  8                     138                   10                     Delhi Capitals               Runs     46.0    Ravichandran Ashwin    1\n",
       "24        10-10-2020  Sheikh Zayed Cricket Stadium, Abu Dhabi     Kolkata Knight Riders        Kings XI Punjab              Kolkata Knight Riders        Bat            Group    164                  6                     162                   5                      Kolkata Knight Riders        Runs     2.0     Dinesh Karthik         1\n",
       "25        10-10-2020  Dubai International Cricket Stadium, Dubai  Royal Challengers Bangalore  Chennai Super Kings          Royal Challengers Bangalore  Bat            Group    169                  4                     132                   8                      Royal Challengers Bangalore  Runs     37.0    Virat Kohli            1\n",
       "26        11-10-2020  Dubai International Cricket Stadium, Dubai  Sunrisers Hyderabad          Rajasthan Royals             Sunrisers Hyderabad          Bat            Group    158                  4                     163                   5                      Rajasthan Royals             Wickets  5.0     Rahul Tewatia          1\n",
       "27        11-10-2020  Sheikh Zayed Cricket Stadium, Abu Dhabi     Delhi Capitals               Mumbai Indians               Delhi Capitals               Bat            Group    162                  4                     166                   5                      Mumbai Indians               Wickets  5.0     Quinton de Kock        1\n",
       "28        12-10-2020  Sharjah Cricket Stadium, Sharjah            Royal Challengers Bangalore  Kolkata Knight Riders        Royal Challengers Bangalore  Bat            Group    194                  2                     112                   9                      Royal Challengers Bangalore  Runs     82.0    AB de Villiers         1\n",
       "60        10-11-2020  Dubai International Cricket Stadium, Dubai  Delhi Capitals               Mumbai Indians               Delhi Capitals               Bat            Final    156                  7                     157                   5                      Mumbai Indians               Wickets  5.0     Trent Boult            1\n",
       "dtype: int64"
      ]
     },
     "execution_count": 48,
     "metadata": {},
     "output_type": "execute_result"
    }
   ],
   "source": [
    "data.value_counts()"
   ]
  },
  {
   "cell_type": "code",
   "execution_count": null,
   "id": "0d6f78d9",
   "metadata": {},
   "outputs": [],
   "source": []
  },
  {
   "cell_type": "code",
   "execution_count": 49,
   "id": "10fd5c2e",
   "metadata": {},
   "outputs": [
    {
     "data": {
      "text/html": [
       "<div>\n",
       "<style scoped>\n",
       "    .dataframe tbody tr th:only-of-type {\n",
       "        vertical-align: middle;\n",
       "    }\n",
       "\n",
       "    .dataframe tbody tr th {\n",
       "        vertical-align: top;\n",
       "    }\n",
       "\n",
       "    .dataframe thead th {\n",
       "        text-align: right;\n",
       "    }\n",
       "</style>\n",
       "<table border=\"1\" class=\"dataframe\">\n",
       "  <thead>\n",
       "    <tr style=\"text-align: right;\">\n",
       "      <th></th>\n",
       "      <th>Match ID</th>\n",
       "      <th>First Innings Score</th>\n",
       "      <th>First Innings Wicket</th>\n",
       "      <th>Second Innings score</th>\n",
       "      <th>Second Innings Wicket</th>\n",
       "      <th>Margin</th>\n",
       "    </tr>\n",
       "  </thead>\n",
       "  <tbody>\n",
       "    <tr>\n",
       "      <th>count</th>\n",
       "      <td>60.000000</td>\n",
       "      <td>60.000000</td>\n",
       "      <td>60.000000</td>\n",
       "      <td>60.000000</td>\n",
       "      <td>60.000000</td>\n",
       "      <td>56.000000</td>\n",
       "    </tr>\n",
       "    <tr>\n",
       "      <th>mean</th>\n",
       "      <td>30.500000</td>\n",
       "      <td>169.500000</td>\n",
       "      <td>5.550000</td>\n",
       "      <td>153.033333</td>\n",
       "      <td>5.583333</td>\n",
       "      <td>22.589286</td>\n",
       "    </tr>\n",
       "    <tr>\n",
       "      <th>std</th>\n",
       "      <td>17.464249</td>\n",
       "      <td>28.771749</td>\n",
       "      <td>1.872413</td>\n",
       "      <td>26.473502</td>\n",
       "      <td>3.015731</td>\n",
       "      <td>24.616164</td>\n",
       "    </tr>\n",
       "    <tr>\n",
       "      <th>min</th>\n",
       "      <td>1.000000</td>\n",
       "      <td>84.000000</td>\n",
       "      <td>2.000000</td>\n",
       "      <td>85.000000</td>\n",
       "      <td>0.000000</td>\n",
       "      <td>2.000000</td>\n",
       "    </tr>\n",
       "    <tr>\n",
       "      <th>25%</th>\n",
       "      <td>15.750000</td>\n",
       "      <td>154.000000</td>\n",
       "      <td>4.000000</td>\n",
       "      <td>135.750000</td>\n",
       "      <td>3.000000</td>\n",
       "      <td>7.000000</td>\n",
       "    </tr>\n",
       "    <tr>\n",
       "      <th>50%</th>\n",
       "      <td>30.500000</td>\n",
       "      <td>167.000000</td>\n",
       "      <td>5.500000</td>\n",
       "      <td>152.000000</td>\n",
       "      <td>5.000000</td>\n",
       "      <td>9.500000</td>\n",
       "    </tr>\n",
       "    <tr>\n",
       "      <th>75%</th>\n",
       "      <td>45.250000</td>\n",
       "      <td>191.500000</td>\n",
       "      <td>7.000000</td>\n",
       "      <td>166.250000</td>\n",
       "      <td>8.000000</td>\n",
       "      <td>37.000000</td>\n",
       "    </tr>\n",
       "    <tr>\n",
       "      <th>max</th>\n",
       "      <td>60.000000</td>\n",
       "      <td>228.000000</td>\n",
       "      <td>10.000000</td>\n",
       "      <td>226.000000</td>\n",
       "      <td>10.000000</td>\n",
       "      <td>97.000000</td>\n",
       "    </tr>\n",
       "  </tbody>\n",
       "</table>\n",
       "</div>"
      ],
      "text/plain": [
       "        Match ID  First Innings Score  First Innings Wicket  \\\n",
       "count  60.000000            60.000000             60.000000   \n",
       "mean   30.500000           169.500000              5.550000   \n",
       "std    17.464249            28.771749              1.872413   \n",
       "min     1.000000            84.000000              2.000000   \n",
       "25%    15.750000           154.000000              4.000000   \n",
       "50%    30.500000           167.000000              5.500000   \n",
       "75%    45.250000           191.500000              7.000000   \n",
       "max    60.000000           228.000000             10.000000   \n",
       "\n",
       "       Second Innings score  Second Innings Wicket     Margin  \n",
       "count             60.000000              60.000000  56.000000  \n",
       "mean             153.033333               5.583333  22.589286  \n",
       "std               26.473502               3.015731  24.616164  \n",
       "min               85.000000               0.000000   2.000000  \n",
       "25%              135.750000               3.000000   7.000000  \n",
       "50%              152.000000               5.000000   9.500000  \n",
       "75%              166.250000               8.000000  37.000000  \n",
       "max              226.000000              10.000000  97.000000  "
      ]
     },
     "execution_count": 49,
     "metadata": {},
     "output_type": "execute_result"
    }
   ],
   "source": [
    "data.describe()"
   ]
  },
  {
   "cell_type": "code",
   "execution_count": 50,
   "id": "c03162ea",
   "metadata": {},
   "outputs": [],
   "source": [
    "biggest_win=data['Margin'].max()"
   ]
  },
  {
   "cell_type": "code",
   "execution_count": 51,
   "id": "628cb841",
   "metadata": {},
   "outputs": [
    {
     "data": {
      "text/plain": [
       "97.0"
      ]
     },
     "execution_count": 51,
     "metadata": {},
     "output_type": "execute_result"
    }
   ],
   "source": [
    "biggest_win"
   ]
  },
  {
   "cell_type": "code",
   "execution_count": 52,
   "id": "ef62cbb8",
   "metadata": {},
   "outputs": [
    {
     "data": {
      "text/plain": [
       "Dubai International Cricket Stadium, Dubai    26\n",
       "Sheikh Zayed Cricket Stadium, Abu Dhabi       22\n",
       "Sharjah Cricket Stadium, Sharjah              12\n",
       "Name: Venue, dtype: int64"
      ]
     },
     "execution_count": 52,
     "metadata": {},
     "output_type": "execute_result"
    }
   ],
   "source": [
    "data['Venue'].value_counts()"
   ]
  },
  {
   "cell_type": "code",
   "execution_count": 53,
   "id": "2ab87357",
   "metadata": {},
   "outputs": [
    {
     "data": {
      "text/plain": [
       "Delhi Capitals                 11\n",
       "Royal Challengers Bangalore    10\n",
       "Kolkata Knight Riders          10\n",
       "Mumbai Indians                  9\n",
       "Kings XI Punjab                 6\n",
       "Sunrisers Hyderabad             6\n",
       "Rajasthan Royals                4\n",
       "Chennai Super Kings             4\n",
       "Name: Team1, dtype: int64"
      ]
     },
     "execution_count": 53,
     "metadata": {},
     "output_type": "execute_result"
    }
   ],
   "source": [
    "data['Team1'].value_counts()"
   ]
  },
  {
   "cell_type": "code",
   "execution_count": 54,
   "id": "13f11ed7",
   "metadata": {},
   "outputs": [
    {
     "data": {
      "text/plain": [
       "Mumbai Indians                 11\n",
       "Delhi Capitals                  9\n",
       "Sunrisers Hyderabad             8\n",
       "Royal Challengers Bangalore     7\n",
       "Kolkata Knight Riders           7\n",
       "Chennai Super Kings             6\n",
       "Rajasthan Royals                6\n",
       "Kings XI Punjab                 6\n",
       "Name: Match Winner, dtype: int64"
      ]
     },
     "execution_count": 54,
     "metadata": {},
     "output_type": "execute_result"
    }
   ],
   "source": [
    "data['Match Winner'].value_counts()"
   ]
  },
  {
   "cell_type": "code",
   "execution_count": 55,
   "id": "ee087296",
   "metadata": {},
   "outputs": [
    {
     "data": {
      "text/plain": [
       "Chennai Super Kings            10\n",
       "Sunrisers Hyderabad            10\n",
       "Rajasthan Royals               10\n",
       "Kings XI Punjab                 8\n",
       "Mumbai Indians                  7\n",
       "Delhi Capitals                  6\n",
       "Royal Challengers Bangalore     5\n",
       "Kolkata Knight Riders           4\n",
       "Name: Team2, dtype: int64"
      ]
     },
     "execution_count": 55,
     "metadata": {},
     "output_type": "execute_result"
    }
   ],
   "source": [
    "data['Team2'].value_counts()"
   ]
  },
  {
   "cell_type": "code",
   "execution_count": null,
   "id": "6de57a1b",
   "metadata": {},
   "outputs": [],
   "source": []
  }
 ],
 "metadata": {
  "kernelspec": {
   "display_name": "Python 3 (ipykernel)",
   "language": "python",
   "name": "python3"
  },
  "language_info": {
   "codemirror_mode": {
    "name": "ipython",
    "version": 3
   },
   "file_extension": ".py",
   "mimetype": "text/x-python",
   "name": "python",
   "nbconvert_exporter": "python",
   "pygments_lexer": "ipython3",
   "version": "3.10.7"
  }
 },
 "nbformat": 4,
 "nbformat_minor": 5
}
