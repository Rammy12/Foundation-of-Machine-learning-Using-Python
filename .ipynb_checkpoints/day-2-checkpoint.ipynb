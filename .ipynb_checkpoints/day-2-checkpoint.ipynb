{
 "cells": [
  {
   "cell_type": "markdown",
   "id": "43c16481",
   "metadata": {},
   "source": [
    "# Day 2"
   ]
  },
  {
   "cell_type": "markdown",
   "id": "39edb238",
   "metadata": {},
   "source": [
    "# Dictionary"
   ]
  },
  {
   "cell_type": "code",
   "execution_count": 2,
   "id": "80881f8c",
   "metadata": {},
   "outputs": [],
   "source": [
    "dicti={'a':1,'b':2,'c':3,'d':4,'e':5,'f':6}"
   ]
  },
  {
   "cell_type": "code",
   "execution_count": 4,
   "id": "bd4b0e9b",
   "metadata": {},
   "outputs": [
    {
     "data": {
      "text/plain": [
       "dict"
      ]
     },
     "execution_count": 4,
     "metadata": {},
     "output_type": "execute_result"
    }
   ],
   "source": [
    "type(dicti)"
   ]
  },
  {
   "cell_type": "code",
   "execution_count": 5,
   "id": "d8f40c30",
   "metadata": {},
   "outputs": [
    {
     "data": {
      "text/plain": [
       "dict_keys(['a', 'b', 'c', 'd', 'e', 'f'])"
      ]
     },
     "execution_count": 5,
     "metadata": {},
     "output_type": "execute_result"
    }
   ],
   "source": [
    "dicti.keys()"
   ]
  },
  {
   "cell_type": "code",
   "execution_count": 6,
   "id": "ec6856cc",
   "metadata": {},
   "outputs": [
    {
     "data": {
      "text/plain": [
       "dict_items([('a', 1), ('b', 2), ('c', 3), ('d', 4), ('e', 5), ('f', 6)])"
      ]
     },
     "execution_count": 6,
     "metadata": {},
     "output_type": "execute_result"
    }
   ],
   "source": [
    "dicti.items()"
   ]
  },
  {
   "cell_type": "code",
   "execution_count": 7,
   "id": "2a1639e4",
   "metadata": {},
   "outputs": [
    {
     "data": {
      "text/plain": [
       "dict_values([1, 2, 3, 4, 5, 6])"
      ]
     },
     "execution_count": 7,
     "metadata": {},
     "output_type": "execute_result"
    }
   ],
   "source": [
    "dicti.values()"
   ]
  },
  {
   "cell_type": "code",
   "execution_count": 8,
   "id": "bf92a84d",
   "metadata": {},
   "outputs": [
    {
     "data": {
      "text/plain": [
       "5"
      ]
     },
     "execution_count": 8,
     "metadata": {},
     "output_type": "execute_result"
    }
   ],
   "source": [
    "dicti['e']"
   ]
  },
  {
   "cell_type": "code",
   "execution_count": 9,
   "id": "6d911b75",
   "metadata": {},
   "outputs": [],
   "source": [
    "dicti['g']=7"
   ]
  },
  {
   "cell_type": "code",
   "execution_count": 10,
   "id": "e6d93585",
   "metadata": {},
   "outputs": [
    {
     "data": {
      "text/plain": [
       "{'a': 1, 'b': 2, 'c': 3, 'd': 4, 'e': 5, 'f': 6, 'g': 7}"
      ]
     },
     "execution_count": 10,
     "metadata": {},
     "output_type": "execute_result"
    }
   ],
   "source": [
    "dicti"
   ]
  },
  {
   "cell_type": "code",
   "execution_count": 12,
   "id": "541da38d",
   "metadata": {},
   "outputs": [
    {
     "data": {
      "text/plain": [
       "2"
      ]
     },
     "execution_count": 12,
     "metadata": {},
     "output_type": "execute_result"
    }
   ],
   "source": [
    "dicti.get('b')"
   ]
  },
  {
   "cell_type": "code",
   "execution_count": 13,
   "id": "66d3f242",
   "metadata": {},
   "outputs": [],
   "source": [
    "dicti2={'data1':{\n",
    "    1:'a',\n",
    "    2:'b',\n",
    "    3:'c',\n",
    "    4:'d',\n",
    "    5:'e'\n",
    "},\n",
    "       'data2':{\n",
    "           1:'A',\n",
    "           2:'B',\n",
    "           3:'C',\n",
    "           4:'D',\n",
    "           5:'E'\n",
    "       }}"
   ]
  },
  {
   "cell_type": "code",
   "execution_count": 14,
   "id": "e218149c",
   "metadata": {},
   "outputs": [
    {
     "data": {
      "text/plain": [
       "{'data1': {1: 'a', 2: 'b', 3: 'c', 4: 'd', 5: 'e'},\n",
       " 'data2': {1: 'A', 2: 'B', 3: 'C', 4: 'D', 5: 'E'}}"
      ]
     },
     "execution_count": 14,
     "metadata": {},
     "output_type": "execute_result"
    }
   ],
   "source": [
    "dicti2"
   ]
  },
  {
   "cell_type": "markdown",
   "id": "1de67263",
   "metadata": {},
   "source": [
    "# Tuple"
   ]
  },
  {
   "cell_type": "code",
   "execution_count": 15,
   "id": "17f71d3e",
   "metadata": {},
   "outputs": [],
   "source": [
    "tu=(1,2,3,4,5,6,7,8)"
   ]
  },
  {
   "cell_type": "code",
   "execution_count": 16,
   "id": "6e7d9765",
   "metadata": {},
   "outputs": [
    {
     "data": {
      "text/plain": [
       "(1, 2, 3, 4, 5, 6, 7, 8)"
      ]
     },
     "execution_count": 16,
     "metadata": {},
     "output_type": "execute_result"
    }
   ],
   "source": [
    "tu"
   ]
  },
  {
   "cell_type": "code",
   "execution_count": 17,
   "id": "6eba640e",
   "metadata": {},
   "outputs": [
    {
     "data": {
      "text/plain": [
       "1"
      ]
     },
     "execution_count": 17,
     "metadata": {},
     "output_type": "execute_result"
    }
   ],
   "source": [
    "tu.count(1)"
   ]
  },
  {
   "cell_type": "code",
   "execution_count": 19,
   "id": "a56e5e99",
   "metadata": {},
   "outputs": [
    {
     "data": {
      "text/plain": [
       "3"
      ]
     },
     "execution_count": 19,
     "metadata": {},
     "output_type": "execute_result"
    }
   ],
   "source": [
    "tu.index(4)"
   ]
  },
  {
   "cell_type": "markdown",
   "id": "f3822619",
   "metadata": {},
   "source": [
    "# Statment"
   ]
  },
  {
   "cell_type": "code",
   "execution_count": 25,
   "id": "c9613240",
   "metadata": {},
   "outputs": [
    {
     "name": "stdout",
     "output_type": "stream",
     "text": [
      "56\n",
      "Number is +\n"
     ]
    }
   ],
   "source": [
    "number=int(input())\n",
    "if number==0:\n",
    "    print(\"Number is \",number)\n",
    "elif number>0:\n",
    "    print(\"Number is +\")\n",
    "else:\n",
    "    print(\"Number is -\")"
   ]
  },
  {
   "cell_type": "markdown",
   "id": "5f41b021",
   "metadata": {},
   "source": [
    "# "
   ]
  },
  {
   "cell_type": "code",
   "execution_count": null,
   "id": "a8f2ef0a",
   "metadata": {},
   "outputs": [],
   "source": []
  }
 ],
 "metadata": {
  "kernelspec": {
   "display_name": "Python 3 (ipykernel)",
   "language": "python",
   "name": "python3"
  },
  "language_info": {
   "codemirror_mode": {
    "name": "ipython",
    "version": 3
   },
   "file_extension": ".py",
   "mimetype": "text/x-python",
   "name": "python",
   "nbconvert_exporter": "python",
   "pygments_lexer": "ipython3",
   "version": "3.10.7"
  }
 },
 "nbformat": 4,
 "nbformat_minor": 5
}
