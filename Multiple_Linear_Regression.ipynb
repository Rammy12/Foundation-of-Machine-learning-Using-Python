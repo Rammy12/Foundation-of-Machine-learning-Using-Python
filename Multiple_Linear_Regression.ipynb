{
 "cells": [
  {
   "cell_type": "code",
   "execution_count": 7,
   "id": "72393a90",
   "metadata": {},
   "outputs": [],
   "source": [
    "import numpy as np\n",
    "import pandas as pd\n",
    "import matplotlib.pyplot as plt\n",
    "from sklearn.model_selection import train_test_split\n",
    "from sklearn.linear_model import LinearRegression\n",
    "from sklearn.preprocessing import OneHotEncoder,StandardScaler\n",
    "from sklearn.compose import make_column_transformer\n",
    "from sklearn.pipeline import make_pipeline\n",
    "from sklearn.metrics import r2_score"
   ]
  },
  {
   "cell_type": "markdown",
   "id": "657aa478",
   "metadata": {},
   "source": [
    "# My own linear regression class"
   ]
  },
  {
   "cell_type": "code",
   "execution_count": 4,
   "id": "cd4b5eac",
   "metadata": {},
   "outputs": [],
   "source": [
    "class my_linear_regression:\n",
    "    def __init__(self):\n",
    "        self.coef=None\n",
    "        self.intercept=None\n",
    "    \n",
    "    def fit(self,x_train,x_test):\n",
    "        x_train=np.insert(x_train,0,1,axis=1)\n",
    "        \n",
    "        beats=np.linalg.inv(np.dot(x_train.T,x_train)).dot(x_train.T).dot(y_train)\n",
    "        self.intercept=beats[0]\n",
    "        self.coef=beats[1:]\n",
    "        \n",
    "        \n",
    "    def predict(self,x_test):\n",
    "        y_pred=np.dot(x_test,self.coef)+self.intercept\n",
    "        return y_pred"
   ]
  },
  {
   "cell_type": "code",
   "execution_count": 5,
   "id": "9605edd4",
   "metadata": {},
   "outputs": [],
   "source": [
    "data=pd.read_csv('cleaned_data.csv')"
   ]
  },
  {
   "cell_type": "code",
   "execution_count": 6,
   "id": "d026fbdd",
   "metadata": {},
   "outputs": [
    {
     "data": {
      "text/html": [
       "<div>\n",
       "<style scoped>\n",
       "    .dataframe tbody tr th:only-of-type {\n",
       "        vertical-align: middle;\n",
       "    }\n",
       "\n",
       "    .dataframe tbody tr th {\n",
       "        vertical-align: top;\n",
       "    }\n",
       "\n",
       "    .dataframe thead th {\n",
       "        text-align: right;\n",
       "    }\n",
       "</style>\n",
       "<table border=\"1\" class=\"dataframe\">\n",
       "  <thead>\n",
       "    <tr style=\"text-align: right;\">\n",
       "      <th></th>\n",
       "      <th>Unnamed: 0</th>\n",
       "      <th>location</th>\n",
       "      <th>total_sqft</th>\n",
       "      <th>bath</th>\n",
       "      <th>price</th>\n",
       "      <th>BHK</th>\n",
       "    </tr>\n",
       "  </thead>\n",
       "  <tbody>\n",
       "    <tr>\n",
       "      <th>0</th>\n",
       "      <td>0</td>\n",
       "      <td>1st Block Jayanagar</td>\n",
       "      <td>2850.0</td>\n",
       "      <td>4.0</td>\n",
       "      <td>428.0</td>\n",
       "      <td>4</td>\n",
       "    </tr>\n",
       "    <tr>\n",
       "      <th>1</th>\n",
       "      <td>1</td>\n",
       "      <td>1st Block Jayanagar</td>\n",
       "      <td>1630.0</td>\n",
       "      <td>3.0</td>\n",
       "      <td>194.0</td>\n",
       "      <td>3</td>\n",
       "    </tr>\n",
       "    <tr>\n",
       "      <th>2</th>\n",
       "      <td>2</td>\n",
       "      <td>1st Block Jayanagar</td>\n",
       "      <td>1875.0</td>\n",
       "      <td>2.0</td>\n",
       "      <td>235.0</td>\n",
       "      <td>3</td>\n",
       "    </tr>\n",
       "    <tr>\n",
       "      <th>3</th>\n",
       "      <td>3</td>\n",
       "      <td>1st Block Jayanagar</td>\n",
       "      <td>1200.0</td>\n",
       "      <td>2.0</td>\n",
       "      <td>130.0</td>\n",
       "      <td>3</td>\n",
       "    </tr>\n",
       "    <tr>\n",
       "      <th>4</th>\n",
       "      <td>4</td>\n",
       "      <td>1st Block Jayanagar</td>\n",
       "      <td>1235.0</td>\n",
       "      <td>2.0</td>\n",
       "      <td>148.0</td>\n",
       "      <td>2</td>\n",
       "    </tr>\n",
       "    <tr>\n",
       "      <th>...</th>\n",
       "      <td>...</td>\n",
       "      <td>...</td>\n",
       "      <td>...</td>\n",
       "      <td>...</td>\n",
       "      <td>...</td>\n",
       "      <td>...</td>\n",
       "    </tr>\n",
       "    <tr>\n",
       "      <th>10271</th>\n",
       "      <td>10271</td>\n",
       "      <td>other</td>\n",
       "      <td>1508.0</td>\n",
       "      <td>3.0</td>\n",
       "      <td>77.0</td>\n",
       "      <td>3</td>\n",
       "    </tr>\n",
       "    <tr>\n",
       "      <th>10272</th>\n",
       "      <td>10272</td>\n",
       "      <td>other</td>\n",
       "      <td>1200.0</td>\n",
       "      <td>2.0</td>\n",
       "      <td>70.0</td>\n",
       "      <td>2</td>\n",
       "    </tr>\n",
       "    <tr>\n",
       "      <th>10273</th>\n",
       "      <td>10273</td>\n",
       "      <td>other</td>\n",
       "      <td>1800.0</td>\n",
       "      <td>1.0</td>\n",
       "      <td>200.0</td>\n",
       "      <td>1</td>\n",
       "    </tr>\n",
       "    <tr>\n",
       "      <th>10274</th>\n",
       "      <td>10274</td>\n",
       "      <td>other</td>\n",
       "      <td>1095.0</td>\n",
       "      <td>2.0</td>\n",
       "      <td>57.0</td>\n",
       "      <td>2</td>\n",
       "    </tr>\n",
       "    <tr>\n",
       "      <th>10275</th>\n",
       "      <td>10275</td>\n",
       "      <td>other</td>\n",
       "      <td>1256.0</td>\n",
       "      <td>2.0</td>\n",
       "      <td>65.0</td>\n",
       "      <td>2</td>\n",
       "    </tr>\n",
       "  </tbody>\n",
       "</table>\n",
       "<p>10276 rows × 6 columns</p>\n",
       "</div>"
      ],
      "text/plain": [
       "       Unnamed: 0             location  total_sqft  bath  price  BHK\n",
       "0               0  1st Block Jayanagar      2850.0   4.0  428.0    4\n",
       "1               1  1st Block Jayanagar      1630.0   3.0  194.0    3\n",
       "2               2  1st Block Jayanagar      1875.0   2.0  235.0    3\n",
       "3               3  1st Block Jayanagar      1200.0   2.0  130.0    3\n",
       "4               4  1st Block Jayanagar      1235.0   2.0  148.0    2\n",
       "...           ...                  ...         ...   ...    ...  ...\n",
       "10271       10271                other      1508.0   3.0   77.0    3\n",
       "10272       10272                other      1200.0   2.0   70.0    2\n",
       "10273       10273                other      1800.0   1.0  200.0    1\n",
       "10274       10274                other      1095.0   2.0   57.0    2\n",
       "10275       10275                other      1256.0   2.0   65.0    2\n",
       "\n",
       "[10276 rows x 6 columns]"
      ]
     },
     "execution_count": 6,
     "metadata": {},
     "output_type": "execute_result"
    }
   ],
   "source": [
    "data.head(-5)"
   ]
  },
  {
   "cell_type": "code",
   "execution_count": 40,
   "id": "2b424837",
   "metadata": {},
   "outputs": [],
   "source": [
    "x=data.drop(columns=['price'])\n",
    "y=data['price']"
   ]
  },
  {
   "cell_type": "code",
   "execution_count": 41,
   "id": "5f7a7e84",
   "metadata": {},
   "outputs": [],
   "source": [
    "x_train,x_test,y_train,y_test=train_test_split(x,y,test_size=0.2, random_state=0)"
   ]
  },
  {
   "cell_type": "code",
   "execution_count": 42,
   "id": "1eeb3dcc",
   "metadata": {},
   "outputs": [],
   "source": [
    "column_trains=make_column_transformer((OneHotEncoder(sparse=False),['location']),remainder='passthrough')"
   ]
  },
  {
   "cell_type": "code",
   "execution_count": 43,
   "id": "52d06d18",
   "metadata": {},
   "outputs": [],
   "source": [
    "scaller=StandardScaler()"
   ]
  },
  {
   "cell_type": "code",
   "execution_count": 44,
   "id": "1e338ee7",
   "metadata": {},
   "outputs": [],
   "source": [
    "lr_my=my_linear_regression()"
   ]
  },
  {
   "cell_type": "code",
   "execution_count": 45,
   "id": "824a5392",
   "metadata": {},
   "outputs": [],
   "source": [
    "pipe_my=make_pipeline(column_trains,scaller,lr_my)"
   ]
  },
  {
   "cell_type": "code",
   "execution_count": 46,
   "id": "9038fc15",
   "metadata": {},
   "outputs": [
    {
     "data": {
      "text/html": [
       "<style>#sk-container-id-4 {color: black;background-color: white;}#sk-container-id-4 pre{padding: 0;}#sk-container-id-4 div.sk-toggleable {background-color: white;}#sk-container-id-4 label.sk-toggleable__label {cursor: pointer;display: block;width: 100%;margin-bottom: 0;padding: 0.3em;box-sizing: border-box;text-align: center;}#sk-container-id-4 label.sk-toggleable__label-arrow:before {content: \"▸\";float: left;margin-right: 0.25em;color: #696969;}#sk-container-id-4 label.sk-toggleable__label-arrow:hover:before {color: black;}#sk-container-id-4 div.sk-estimator:hover label.sk-toggleable__label-arrow:before {color: black;}#sk-container-id-4 div.sk-toggleable__content {max-height: 0;max-width: 0;overflow: hidden;text-align: left;background-color: #f0f8ff;}#sk-container-id-4 div.sk-toggleable__content pre {margin: 0.2em;color: black;border-radius: 0.25em;background-color: #f0f8ff;}#sk-container-id-4 input.sk-toggleable__control:checked~div.sk-toggleable__content {max-height: 200px;max-width: 100%;overflow: auto;}#sk-container-id-4 input.sk-toggleable__control:checked~label.sk-toggleable__label-arrow:before {content: \"▾\";}#sk-container-id-4 div.sk-estimator input.sk-toggleable__control:checked~label.sk-toggleable__label {background-color: #d4ebff;}#sk-container-id-4 div.sk-label input.sk-toggleable__control:checked~label.sk-toggleable__label {background-color: #d4ebff;}#sk-container-id-4 input.sk-hidden--visually {border: 0;clip: rect(1px 1px 1px 1px);clip: rect(1px, 1px, 1px, 1px);height: 1px;margin: -1px;overflow: hidden;padding: 0;position: absolute;width: 1px;}#sk-container-id-4 div.sk-estimator {font-family: monospace;background-color: #f0f8ff;border: 1px dotted black;border-radius: 0.25em;box-sizing: border-box;margin-bottom: 0.5em;}#sk-container-id-4 div.sk-estimator:hover {background-color: #d4ebff;}#sk-container-id-4 div.sk-parallel-item::after {content: \"\";width: 100%;border-bottom: 1px solid gray;flex-grow: 1;}#sk-container-id-4 div.sk-label:hover label.sk-toggleable__label {background-color: #d4ebff;}#sk-container-id-4 div.sk-serial::before {content: \"\";position: absolute;border-left: 1px solid gray;box-sizing: border-box;top: 0;bottom: 0;left: 50%;z-index: 0;}#sk-container-id-4 div.sk-serial {display: flex;flex-direction: column;align-items: center;background-color: white;padding-right: 0.2em;padding-left: 0.2em;position: relative;}#sk-container-id-4 div.sk-item {position: relative;z-index: 1;}#sk-container-id-4 div.sk-parallel {display: flex;align-items: stretch;justify-content: center;background-color: white;position: relative;}#sk-container-id-4 div.sk-item::before, #sk-container-id-4 div.sk-parallel-item::before {content: \"\";position: absolute;border-left: 1px solid gray;box-sizing: border-box;top: 0;bottom: 0;left: 50%;z-index: -1;}#sk-container-id-4 div.sk-parallel-item {display: flex;flex-direction: column;z-index: 1;position: relative;background-color: white;}#sk-container-id-4 div.sk-parallel-item:first-child::after {align-self: flex-end;width: 50%;}#sk-container-id-4 div.sk-parallel-item:last-child::after {align-self: flex-start;width: 50%;}#sk-container-id-4 div.sk-parallel-item:only-child::after {width: 0;}#sk-container-id-4 div.sk-dashed-wrapped {border: 1px dashed gray;margin: 0 0.4em 0.5em 0.4em;box-sizing: border-box;padding-bottom: 0.4em;background-color: white;}#sk-container-id-4 div.sk-label label {font-family: monospace;font-weight: bold;display: inline-block;line-height: 1.2em;}#sk-container-id-4 div.sk-label-container {text-align: center;}#sk-container-id-4 div.sk-container {/* jupyter's `normalize.less` sets `[hidden] { display: none; }` but bootstrap.min.css set `[hidden] { display: none !important; }` so we also need the `!important` here to be able to override the default hidden behavior on the sphinx rendered scikit-learn.org. See: https://github.com/scikit-learn/scikit-learn/issues/21755 */display: inline-block !important;position: relative;}#sk-container-id-4 div.sk-text-repr-fallback {display: none;}</style><div id=\"sk-container-id-4\" class=\"sk-top-container\"><div class=\"sk-text-repr-fallback\"><pre>Pipeline(steps=[(&#x27;columntransformer&#x27;,\n",
       "                 ColumnTransformer(remainder=&#x27;passthrough&#x27;,\n",
       "                                   transformers=[(&#x27;onehotencoder&#x27;,\n",
       "                                                  OneHotEncoder(sparse=False),\n",
       "                                                  [&#x27;location&#x27;])])),\n",
       "                (&#x27;standardscaler&#x27;, StandardScaler()),\n",
       "                (&#x27;my_linear_regression&#x27;,\n",
       "                 &lt;__main__.my_linear_regression object at 0x0000021E70777D60&gt;)])</pre><b>In a Jupyter environment, please rerun this cell to show the HTML representation or trust the notebook. <br />On GitHub, the HTML representation is unable to render, please try loading this page with nbviewer.org.</b></div><div class=\"sk-container\" hidden><div class=\"sk-item sk-dashed-wrapped\"><div class=\"sk-label-container\"><div class=\"sk-label sk-toggleable\"><input class=\"sk-toggleable__control sk-hidden--visually\" id=\"sk-estimator-id-25\" type=\"checkbox\" ><label for=\"sk-estimator-id-25\" class=\"sk-toggleable__label sk-toggleable__label-arrow\">Pipeline</label><div class=\"sk-toggleable__content\"><pre>Pipeline(steps=[(&#x27;columntransformer&#x27;,\n",
       "                 ColumnTransformer(remainder=&#x27;passthrough&#x27;,\n",
       "                                   transformers=[(&#x27;onehotencoder&#x27;,\n",
       "                                                  OneHotEncoder(sparse=False),\n",
       "                                                  [&#x27;location&#x27;])])),\n",
       "                (&#x27;standardscaler&#x27;, StandardScaler()),\n",
       "                (&#x27;my_linear_regression&#x27;,\n",
       "                 &lt;__main__.my_linear_regression object at 0x0000021E70777D60&gt;)])</pre></div></div></div><div class=\"sk-serial\"><div class=\"sk-item sk-dashed-wrapped\"><div class=\"sk-label-container\"><div class=\"sk-label sk-toggleable\"><input class=\"sk-toggleable__control sk-hidden--visually\" id=\"sk-estimator-id-26\" type=\"checkbox\" ><label for=\"sk-estimator-id-26\" class=\"sk-toggleable__label sk-toggleable__label-arrow\">columntransformer: ColumnTransformer</label><div class=\"sk-toggleable__content\"><pre>ColumnTransformer(remainder=&#x27;passthrough&#x27;,\n",
       "                  transformers=[(&#x27;onehotencoder&#x27;, OneHotEncoder(sparse=False),\n",
       "                                 [&#x27;location&#x27;])])</pre></div></div></div><div class=\"sk-parallel\"><div class=\"sk-parallel-item\"><div class=\"sk-item\"><div class=\"sk-label-container\"><div class=\"sk-label sk-toggleable\"><input class=\"sk-toggleable__control sk-hidden--visually\" id=\"sk-estimator-id-27\" type=\"checkbox\" ><label for=\"sk-estimator-id-27\" class=\"sk-toggleable__label sk-toggleable__label-arrow\">onehotencoder</label><div class=\"sk-toggleable__content\"><pre>[&#x27;location&#x27;]</pre></div></div></div><div class=\"sk-serial\"><div class=\"sk-item\"><div class=\"sk-estimator sk-toggleable\"><input class=\"sk-toggleable__control sk-hidden--visually\" id=\"sk-estimator-id-28\" type=\"checkbox\" ><label for=\"sk-estimator-id-28\" class=\"sk-toggleable__label sk-toggleable__label-arrow\">OneHotEncoder</label><div class=\"sk-toggleable__content\"><pre>OneHotEncoder(sparse=False)</pre></div></div></div></div></div></div><div class=\"sk-parallel-item\"><div class=\"sk-item\"><div class=\"sk-label-container\"><div class=\"sk-label sk-toggleable\"><input class=\"sk-toggleable__control sk-hidden--visually\" id=\"sk-estimator-id-29\" type=\"checkbox\" ><label for=\"sk-estimator-id-29\" class=\"sk-toggleable__label sk-toggleable__label-arrow\">remainder</label><div class=\"sk-toggleable__content\"><pre>[&#x27;Unnamed: 0&#x27;, &#x27;total_sqft&#x27;, &#x27;bath&#x27;, &#x27;BHK&#x27;]</pre></div></div></div><div class=\"sk-serial\"><div class=\"sk-item\"><div class=\"sk-estimator sk-toggleable\"><input class=\"sk-toggleable__control sk-hidden--visually\" id=\"sk-estimator-id-30\" type=\"checkbox\" ><label for=\"sk-estimator-id-30\" class=\"sk-toggleable__label sk-toggleable__label-arrow\">passthrough</label><div class=\"sk-toggleable__content\"><pre>passthrough</pre></div></div></div></div></div></div></div></div><div class=\"sk-item\"><div class=\"sk-estimator sk-toggleable\"><input class=\"sk-toggleable__control sk-hidden--visually\" id=\"sk-estimator-id-31\" type=\"checkbox\" ><label for=\"sk-estimator-id-31\" class=\"sk-toggleable__label sk-toggleable__label-arrow\">StandardScaler</label><div class=\"sk-toggleable__content\"><pre>StandardScaler()</pre></div></div></div><div class=\"sk-item\"><div class=\"sk-estimator sk-toggleable\"><input class=\"sk-toggleable__control sk-hidden--visually\" id=\"sk-estimator-id-32\" type=\"checkbox\" ><label for=\"sk-estimator-id-32\" class=\"sk-toggleable__label sk-toggleable__label-arrow\">my_linear_regression</label><div class=\"sk-toggleable__content\"><pre>&lt;__main__.my_linear_regression object at 0x0000021E70777D60&gt;</pre></div></div></div></div></div></div></div>"
      ],
      "text/plain": [
       "Pipeline(steps=[('columntransformer',\n",
       "                 ColumnTransformer(remainder='passthrough',\n",
       "                                   transformers=[('onehotencoder',\n",
       "                                                  OneHotEncoder(sparse=False),\n",
       "                                                  ['location'])])),\n",
       "                ('standardscaler', StandardScaler()),\n",
       "                ('my_linear_regression',\n",
       "                 <__main__.my_linear_regression object at 0x0000021E70777D60>)])"
      ]
     },
     "execution_count": 46,
     "metadata": {},
     "output_type": "execute_result"
    }
   ],
   "source": [
    "pipe_my.fit(x_train,y_train)"
   ]
  },
  {
   "cell_type": "code",
   "execution_count": 47,
   "id": "ca9b68b3",
   "metadata": {},
   "outputs": [],
   "source": [
    "y_pred_my=pipe.predict(x_test)"
   ]
  },
  {
   "cell_type": "code",
   "execution_count": 48,
   "id": "9b6ef827",
   "metadata": {},
   "outputs": [
    {
     "data": {
      "text/plain": [
       "0.7926576829005657"
      ]
     },
     "execution_count": 48,
     "metadata": {},
     "output_type": "execute_result"
    }
   ],
   "source": [
    "r2_score(y_test,y_pred_my)"
   ]
  },
  {
   "cell_type": "code",
   "execution_count": 49,
   "id": "a792688c",
   "metadata": {},
   "outputs": [
    {
     "data": {
      "text/plain": [
       "array([246.33790079,   1.03119551,  64.36099934, ..., 101.95491882,\n",
       "       113.07405944,  63.13834309])"
      ]
     },
     "execution_count": 49,
     "metadata": {},
     "output_type": "execute_result"
    }
   ],
   "source": [
    "y_pred_my"
   ]
  },
  {
   "cell_type": "code",
   "execution_count": 50,
   "id": "a4292f13",
   "metadata": {},
   "outputs": [],
   "source": [
    "coef_my=lr_my.coef\n",
    "intercept_my=lr_my.intercept"
   ]
  },
  {
   "cell_type": "code",
   "execution_count": 51,
   "id": "49cee0b5",
   "metadata": {},
   "outputs": [
    {
     "data": {
      "text/plain": [
       "array([ 9.50448166e+00,  2.50223398e+00,  6.24145452e-01,  5.01650256e+00,\n",
       "        3.39539671e-01,  5.41336505e-01,  6.18445038e-01,  9.50844071e+00,\n",
       "        3.87974711e+00, -1.69702803e+00,  9.20380276e-01,  4.81025690e+00,\n",
       "        9.06056311e-01,  2.46268230e+00,  2.13331710e+00,  2.50678910e-01,\n",
       "       -3.88416396e+00,  2.79939402e+00,  3.62492330e+00,  7.21487209e+00,\n",
       "       -2.95390976e-01,  1.87157497e-01,  6.76237486e+00,  5.13251032e+00,\n",
       "        9.13669052e-01,  4.97529837e+00, -6.67667415e-01,  3.72043954e-01,\n",
       "       -2.72500308e-01, -4.92493180e+00,  8.08903876e+00,  4.19037476e+00,\n",
       "        3.02653005e+00,  6.15905033e+00, -6.46189354e-01,  4.04576914e+00,\n",
       "       -5.58024654e-01, -1.20997964e+00,  4.88560485e+00,  6.45158423e+00,\n",
       "        3.68797276e+00,  1.11815968e+00, -4.53839378e+00, -6.62523522e+00,\n",
       "        2.47043510e+00,  1.47418476e+00, -7.14114403e+00,  1.52562420e+00,\n",
       "        2.55150753e-02, -3.76970412e+00,  7.32460215e-01,  4.04721503e+00,\n",
       "       -4.57498267e-01,  3.50244765e+00, -1.48772944e+00, -7.66919193e-01,\n",
       "       -9.09242037e-01,  5.17781984e+00, -8.09622458e+00,  1.47880656e+00,\n",
       "       -2.38015774e+00, -5.60036449e-01, -2.23525654e-01,  4.70630830e-01,\n",
       "        5.34257793e+00,  1.56527690e+00,  2.84976933e+01,  7.00736975e-01,\n",
       "        4.14504822e+00, -3.22463894e+00, -9.27562900e-02,  3.69177355e+00,\n",
       "       -1.14862985e+00, -6.32922879e-02,  8.35878139e+00, -7.78048831e-01,\n",
       "       -3.57494690e+00,  1.10527571e+00,  2.59878299e+01,  1.55119971e+01,\n",
       "        1.19115833e+01,  7.63364928e+00, -9.40934406e-02,  2.12573501e+00,\n",
       "        1.28910311e+01, -1.40369308e+00,  1.25480138e+01, -1.37923783e+00,\n",
       "        3.66299840e+00,  2.92930209e+00,  7.04379271e+00,  3.73004677e+00,\n",
       "        4.58324017e-02,  1.45083948e+01,  5.96346250e+00,  8.54453607e+00,\n",
       "       -5.98068384e-01,  4.17966233e+00,  3.12837929e+00, -2.65833843e-01,\n",
       "       -3.18409004e+00, -5.52227677e+00,  5.12613491e+00, -4.64006250e+00,\n",
       "        1.72940408e+00,  2.43079433e+00,  7.73956071e+00, -4.63639522e+00,\n",
       "        4.64183498e+00,  2.93186815e+00,  1.94614423e+00,  7.38432443e-01,\n",
       "        8.40217388e+00,  1.29420812e+01,  4.19727720e+00,  1.41121179e+01,\n",
       "       -9.64501873e-01,  8.16997253e-02,  3.63623414e-01,  1.09127767e+00,\n",
       "        1.38382007e+00, -2.26139802e+00,  1.26684972e+00,  1.41730854e+01,\n",
       "       -4.44190926e+00, -5.58276921e+00,  3.41939571e+00,  6.59143370e+00,\n",
       "       -1.60035145e+00,  4.89414509e+00, -4.83218641e+00,  4.55008909e+00,\n",
       "       -5.46952380e+00,  8.89160314e-01,  1.53144119e+00,  7.75800804e+00,\n",
       "        1.62364020e+00, -1.08498166e+00, -7.56881283e-01,  2.09033035e+00,\n",
       "        2.30513663e+00,  8.00598583e+00,  1.43656434e+00,  1.30011876e+00,\n",
       "        2.70998621e+00,  2.83679609e+00,  2.85924539e+00,  8.74609230e-01,\n",
       "        3.65775741e+00, -9.09362066e-01, -1.91443498e+00,  1.17250463e+01,\n",
       "        6.10040886e+00,  3.69641096e+00,  3.57273505e+00,  4.28312326e+00,\n",
       "       -1.44456886e+00,  1.90190858e+00,  7.11605214e-01, -1.47559416e+00,\n",
       "        3.83426633e+00,  2.40704400e+00,  2.17654228e+00,  9.51025907e-01,\n",
       "        1.18432334e+00,  1.40904957e+01,  2.52108465e+00,  3.06833557e-01,\n",
       "        4.78911780e+00, -2.74425470e-01,  5.19172952e-01,  1.12815108e+00,\n",
       "        1.46289722e+00,  1.27665455e+00, -5.23513197e+00,  1.25837448e+01,\n",
       "       -3.43640368e-01,  2.28161768e+00,  6.27267463e+00, -3.05919409e-01,\n",
       "       -1.71452785e-01, -3.25857548e+00,  4.31602023e+00,  4.39081557e-01,\n",
       "        2.46607485e+00,  8.15631075e+00,  3.51492546e+00,  6.34004633e+00,\n",
       "        1.88500473e+00, -1.63229835e+00,  1.41089248e+00,  1.35184803e+00,\n",
       "       -9.98613765e-01,  2.49833364e+00, -3.30666788e+00,  1.62976161e+01,\n",
       "        4.30632679e+00, -1.11157847e+00, -2.18976368e+00,  9.75505346e-01,\n",
       "        2.31761735e-02, -1.90754740e+00,  7.93712468e+00, -3.91935032e+00,\n",
       "        2.01763185e+01, -2.54986269e+00,  5.03070318e-01,  5.17920156e+00,\n",
       "        1.91213375e+00, -1.68314413e+00,  3.48764355e+00,  1.54766144e-01,\n",
       "       -2.13200679e-01,  9.73387304e-01,  3.54913969e+00, -1.71736279e+00,\n",
       "        1.36990261e+00,  2.67703222e+00,  1.11732625e+00,  1.82017143e+00,\n",
       "        6.28389434e+00,  5.41331560e+00,  1.47962834e+00,  5.26264004e-01,\n",
       "        4.17658072e+00,  4.82655493e+00,  4.88625698e+00,  4.76682795e+00,\n",
       "        3.99562191e+00,  1.50823536e+00, -2.99493123e-01,  2.21882555e+00,\n",
       "        3.73425795e-01,  1.70427613e-01,  1.58846159e+00, -5.61166287e+00,\n",
       "        2.17912186e+00,  1.52848953e-01,  2.24987966e+00,  1.31959498e+00,\n",
       "        1.24397194e+00,  3.81430343e+01, -3.41714632e+00,  6.51860193e+01,\n",
       "        8.64066638e+00, -6.71990048e+00])"
      ]
     },
     "execution_count": 51,
     "metadata": {},
     "output_type": "execute_result"
    }
   ],
   "source": [
    "coef_my"
   ]
  },
  {
   "cell_type": "code",
   "execution_count": 52,
   "id": "8e29e6e9",
   "metadata": {},
   "outputs": [
    {
     "data": {
      "text/plain": [
       "91.4160524075876"
      ]
     },
     "execution_count": 52,
     "metadata": {},
     "output_type": "execute_result"
    }
   ],
   "source": [
    "intercept_my"
   ]
  },
  {
   "cell_type": "markdown",
   "id": "1c85ba37",
   "metadata": {},
   "source": [
    "# Using Sklearn "
   ]
  },
  {
   "cell_type": "code",
   "execution_count": 53,
   "id": "a52a68ca",
   "metadata": {},
   "outputs": [],
   "source": [
    "lr=LinearRegression(normalize=True)"
   ]
  },
  {
   "cell_type": "code",
   "execution_count": 54,
   "id": "832a257c",
   "metadata": {},
   "outputs": [],
   "source": [
    "pipe=make_pipeline(column_trains,scaller,lr)"
   ]
  },
  {
   "cell_type": "code",
   "execution_count": 55,
   "id": "92089cac",
   "metadata": {},
   "outputs": [
    {
     "name": "stderr",
     "output_type": "stream",
     "text": [
      "C:\\Users\\91776\\AppData\\Local\\Programs\\Python\\Python310\\lib\\site-packages\\sklearn\\linear_model\\_base.py:141: FutureWarning: 'normalize' was deprecated in version 1.0 and will be removed in 1.2.\n",
      "If you wish to scale the data, use Pipeline with a StandardScaler in a preprocessing stage. To reproduce the previous behavior:\n",
      "\n",
      "from sklearn.pipeline import make_pipeline\n",
      "\n",
      "model = make_pipeline(StandardScaler(with_mean=False), LinearRegression())\n",
      "\n",
      "If you wish to pass a sample_weight parameter, you need to pass it as a fit parameter to each step of the pipeline as follows:\n",
      "\n",
      "kwargs = {s[0] + '__sample_weight': sample_weight for s in model.steps}\n",
      "model.fit(X, y, **kwargs)\n",
      "\n",
      "\n",
      "  warnings.warn(\n"
     ]
    },
    {
     "data": {
      "text/html": [
       "<style>#sk-container-id-5 {color: black;background-color: white;}#sk-container-id-5 pre{padding: 0;}#sk-container-id-5 div.sk-toggleable {background-color: white;}#sk-container-id-5 label.sk-toggleable__label {cursor: pointer;display: block;width: 100%;margin-bottom: 0;padding: 0.3em;box-sizing: border-box;text-align: center;}#sk-container-id-5 label.sk-toggleable__label-arrow:before {content: \"▸\";float: left;margin-right: 0.25em;color: #696969;}#sk-container-id-5 label.sk-toggleable__label-arrow:hover:before {color: black;}#sk-container-id-5 div.sk-estimator:hover label.sk-toggleable__label-arrow:before {color: black;}#sk-container-id-5 div.sk-toggleable__content {max-height: 0;max-width: 0;overflow: hidden;text-align: left;background-color: #f0f8ff;}#sk-container-id-5 div.sk-toggleable__content pre {margin: 0.2em;color: black;border-radius: 0.25em;background-color: #f0f8ff;}#sk-container-id-5 input.sk-toggleable__control:checked~div.sk-toggleable__content {max-height: 200px;max-width: 100%;overflow: auto;}#sk-container-id-5 input.sk-toggleable__control:checked~label.sk-toggleable__label-arrow:before {content: \"▾\";}#sk-container-id-5 div.sk-estimator input.sk-toggleable__control:checked~label.sk-toggleable__label {background-color: #d4ebff;}#sk-container-id-5 div.sk-label input.sk-toggleable__control:checked~label.sk-toggleable__label {background-color: #d4ebff;}#sk-container-id-5 input.sk-hidden--visually {border: 0;clip: rect(1px 1px 1px 1px);clip: rect(1px, 1px, 1px, 1px);height: 1px;margin: -1px;overflow: hidden;padding: 0;position: absolute;width: 1px;}#sk-container-id-5 div.sk-estimator {font-family: monospace;background-color: #f0f8ff;border: 1px dotted black;border-radius: 0.25em;box-sizing: border-box;margin-bottom: 0.5em;}#sk-container-id-5 div.sk-estimator:hover {background-color: #d4ebff;}#sk-container-id-5 div.sk-parallel-item::after {content: \"\";width: 100%;border-bottom: 1px solid gray;flex-grow: 1;}#sk-container-id-5 div.sk-label:hover label.sk-toggleable__label {background-color: #d4ebff;}#sk-container-id-5 div.sk-serial::before {content: \"\";position: absolute;border-left: 1px solid gray;box-sizing: border-box;top: 0;bottom: 0;left: 50%;z-index: 0;}#sk-container-id-5 div.sk-serial {display: flex;flex-direction: column;align-items: center;background-color: white;padding-right: 0.2em;padding-left: 0.2em;position: relative;}#sk-container-id-5 div.sk-item {position: relative;z-index: 1;}#sk-container-id-5 div.sk-parallel {display: flex;align-items: stretch;justify-content: center;background-color: white;position: relative;}#sk-container-id-5 div.sk-item::before, #sk-container-id-5 div.sk-parallel-item::before {content: \"\";position: absolute;border-left: 1px solid gray;box-sizing: border-box;top: 0;bottom: 0;left: 50%;z-index: -1;}#sk-container-id-5 div.sk-parallel-item {display: flex;flex-direction: column;z-index: 1;position: relative;background-color: white;}#sk-container-id-5 div.sk-parallel-item:first-child::after {align-self: flex-end;width: 50%;}#sk-container-id-5 div.sk-parallel-item:last-child::after {align-self: flex-start;width: 50%;}#sk-container-id-5 div.sk-parallel-item:only-child::after {width: 0;}#sk-container-id-5 div.sk-dashed-wrapped {border: 1px dashed gray;margin: 0 0.4em 0.5em 0.4em;box-sizing: border-box;padding-bottom: 0.4em;background-color: white;}#sk-container-id-5 div.sk-label label {font-family: monospace;font-weight: bold;display: inline-block;line-height: 1.2em;}#sk-container-id-5 div.sk-label-container {text-align: center;}#sk-container-id-5 div.sk-container {/* jupyter's `normalize.less` sets `[hidden] { display: none; }` but bootstrap.min.css set `[hidden] { display: none !important; }` so we also need the `!important` here to be able to override the default hidden behavior on the sphinx rendered scikit-learn.org. See: https://github.com/scikit-learn/scikit-learn/issues/21755 */display: inline-block !important;position: relative;}#sk-container-id-5 div.sk-text-repr-fallback {display: none;}</style><div id=\"sk-container-id-5\" class=\"sk-top-container\"><div class=\"sk-text-repr-fallback\"><pre>Pipeline(steps=[(&#x27;columntransformer&#x27;,\n",
       "                 ColumnTransformer(remainder=&#x27;passthrough&#x27;,\n",
       "                                   transformers=[(&#x27;onehotencoder&#x27;,\n",
       "                                                  OneHotEncoder(sparse=False),\n",
       "                                                  [&#x27;location&#x27;])])),\n",
       "                (&#x27;standardscaler&#x27;, StandardScaler()),\n",
       "                (&#x27;linearregression&#x27;, LinearRegression(normalize=True))])</pre><b>In a Jupyter environment, please rerun this cell to show the HTML representation or trust the notebook. <br />On GitHub, the HTML representation is unable to render, please try loading this page with nbviewer.org.</b></div><div class=\"sk-container\" hidden><div class=\"sk-item sk-dashed-wrapped\"><div class=\"sk-label-container\"><div class=\"sk-label sk-toggleable\"><input class=\"sk-toggleable__control sk-hidden--visually\" id=\"sk-estimator-id-33\" type=\"checkbox\" ><label for=\"sk-estimator-id-33\" class=\"sk-toggleable__label sk-toggleable__label-arrow\">Pipeline</label><div class=\"sk-toggleable__content\"><pre>Pipeline(steps=[(&#x27;columntransformer&#x27;,\n",
       "                 ColumnTransformer(remainder=&#x27;passthrough&#x27;,\n",
       "                                   transformers=[(&#x27;onehotencoder&#x27;,\n",
       "                                                  OneHotEncoder(sparse=False),\n",
       "                                                  [&#x27;location&#x27;])])),\n",
       "                (&#x27;standardscaler&#x27;, StandardScaler()),\n",
       "                (&#x27;linearregression&#x27;, LinearRegression(normalize=True))])</pre></div></div></div><div class=\"sk-serial\"><div class=\"sk-item sk-dashed-wrapped\"><div class=\"sk-label-container\"><div class=\"sk-label sk-toggleable\"><input class=\"sk-toggleable__control sk-hidden--visually\" id=\"sk-estimator-id-34\" type=\"checkbox\" ><label for=\"sk-estimator-id-34\" class=\"sk-toggleable__label sk-toggleable__label-arrow\">columntransformer: ColumnTransformer</label><div class=\"sk-toggleable__content\"><pre>ColumnTransformer(remainder=&#x27;passthrough&#x27;,\n",
       "                  transformers=[(&#x27;onehotencoder&#x27;, OneHotEncoder(sparse=False),\n",
       "                                 [&#x27;location&#x27;])])</pre></div></div></div><div class=\"sk-parallel\"><div class=\"sk-parallel-item\"><div class=\"sk-item\"><div class=\"sk-label-container\"><div class=\"sk-label sk-toggleable\"><input class=\"sk-toggleable__control sk-hidden--visually\" id=\"sk-estimator-id-35\" type=\"checkbox\" ><label for=\"sk-estimator-id-35\" class=\"sk-toggleable__label sk-toggleable__label-arrow\">onehotencoder</label><div class=\"sk-toggleable__content\"><pre>[&#x27;location&#x27;]</pre></div></div></div><div class=\"sk-serial\"><div class=\"sk-item\"><div class=\"sk-estimator sk-toggleable\"><input class=\"sk-toggleable__control sk-hidden--visually\" id=\"sk-estimator-id-36\" type=\"checkbox\" ><label for=\"sk-estimator-id-36\" class=\"sk-toggleable__label sk-toggleable__label-arrow\">OneHotEncoder</label><div class=\"sk-toggleable__content\"><pre>OneHotEncoder(sparse=False)</pre></div></div></div></div></div></div><div class=\"sk-parallel-item\"><div class=\"sk-item\"><div class=\"sk-label-container\"><div class=\"sk-label sk-toggleable\"><input class=\"sk-toggleable__control sk-hidden--visually\" id=\"sk-estimator-id-37\" type=\"checkbox\" ><label for=\"sk-estimator-id-37\" class=\"sk-toggleable__label sk-toggleable__label-arrow\">remainder</label><div class=\"sk-toggleable__content\"><pre>[&#x27;Unnamed: 0&#x27;, &#x27;total_sqft&#x27;, &#x27;bath&#x27;, &#x27;BHK&#x27;]</pre></div></div></div><div class=\"sk-serial\"><div class=\"sk-item\"><div class=\"sk-estimator sk-toggleable\"><input class=\"sk-toggleable__control sk-hidden--visually\" id=\"sk-estimator-id-38\" type=\"checkbox\" ><label for=\"sk-estimator-id-38\" class=\"sk-toggleable__label sk-toggleable__label-arrow\">passthrough</label><div class=\"sk-toggleable__content\"><pre>passthrough</pre></div></div></div></div></div></div></div></div><div class=\"sk-item\"><div class=\"sk-estimator sk-toggleable\"><input class=\"sk-toggleable__control sk-hidden--visually\" id=\"sk-estimator-id-39\" type=\"checkbox\" ><label for=\"sk-estimator-id-39\" class=\"sk-toggleable__label sk-toggleable__label-arrow\">StandardScaler</label><div class=\"sk-toggleable__content\"><pre>StandardScaler()</pre></div></div></div><div class=\"sk-item\"><div class=\"sk-estimator sk-toggleable\"><input class=\"sk-toggleable__control sk-hidden--visually\" id=\"sk-estimator-id-40\" type=\"checkbox\" ><label for=\"sk-estimator-id-40\" class=\"sk-toggleable__label sk-toggleable__label-arrow\">LinearRegression</label><div class=\"sk-toggleable__content\"><pre>LinearRegression(normalize=True)</pre></div></div></div></div></div></div></div>"
      ],
      "text/plain": [
       "Pipeline(steps=[('columntransformer',\n",
       "                 ColumnTransformer(remainder='passthrough',\n",
       "                                   transformers=[('onehotencoder',\n",
       "                                                  OneHotEncoder(sparse=False),\n",
       "                                                  ['location'])])),\n",
       "                ('standardscaler', StandardScaler()),\n",
       "                ('linearregression', LinearRegression(normalize=True))])"
      ]
     },
     "execution_count": 55,
     "metadata": {},
     "output_type": "execute_result"
    }
   ],
   "source": [
    "pipe.fit(x_train,y_train)"
   ]
  },
  {
   "cell_type": "code",
   "execution_count": 62,
   "id": "78d77c73",
   "metadata": {},
   "outputs": [],
   "source": [
    "y_pred=pipe.predict(x_test)"
   ]
  },
  {
   "cell_type": "code",
   "execution_count": 63,
   "id": "94bfd7bb",
   "metadata": {},
   "outputs": [],
   "source": [
    "coef=lr.coef_\n",
    "intercept=lr.intercept_"
   ]
  },
  {
   "cell_type": "code",
   "execution_count": 64,
   "id": "6eaa9fde",
   "metadata": {},
   "outputs": [
    {
     "data": {
      "text/plain": [
       "array([246.33790079,   1.03119551,  64.36099934, ..., 101.95491882,\n",
       "       113.07405944,  63.13834309])"
      ]
     },
     "execution_count": 64,
     "metadata": {},
     "output_type": "execute_result"
    }
   ],
   "source": [
    "y_pred"
   ]
  },
  {
   "cell_type": "code",
   "execution_count": 65,
   "id": "f42d32c2",
   "metadata": {},
   "outputs": [
    {
     "data": {
      "text/plain": [
       "array([-6.92632166e+11, -1.04658778e+12, -5.85452258e+11, -4.53544542e+11,\n",
       "       -5.23676274e+11, -1.33332992e+12, -9.79112487e+11, -2.25777045e+12,\n",
       "       -1.56796788e+12, -1.33332992e+12, -4.53544542e+11, -1.04658778e+12,\n",
       "       -1.61073710e+12, -1.16983556e+12, -1.10993872e+12, -9.43553859e+11,\n",
       "       -1.07873227e+12, -1.22678432e+12, -1.35864609e+12, -8.27702644e+11,\n",
       "       -9.79112487e+11, -7.85275471e+11, -1.40789566e+12, -6.92632166e+11,\n",
       "       -1.16983556e+12, -9.06592426e+11, -1.04658778e+12, -7.85275471e+11,\n",
       "       -1.43187663e+12, -1.91824865e+12, -9.43553859e+11, -1.01341599e+12,\n",
       "       -7.85275471e+11, -8.27702644e+11, -8.68049012e+11, -4.53544542e+11,\n",
       "       -7.40409874e+11, -2.93993161e+12, -1.01341599e+12, -6.92632166e+11,\n",
       "       -1.01341599e+12, -9.06592426e+11, -1.91824865e+12, -2.05442898e+12,\n",
       "       -7.40409874e+11, -6.92632166e+11, -1.38349306e+12, -7.85275471e+11,\n",
       "       -9.43553859e+11, -1.47865533e+12, -1.07873227e+12, -1.33332992e+12,\n",
       "       -9.79112487e+11, -6.41291800e+11, -1.47865533e+12, -1.58949897e+12,\n",
       "       -1.22678432e+12, -8.27702644e+11, -2.02126900e+12, -1.30751729e+12,\n",
       "       -8.68049012e+11, -7.85275471e+11, -1.16983556e+12, -1.14028415e+12,\n",
       "       -7.85275471e+11, -7.85275471e+11, -8.27702644e+11, -7.40409874e+11,\n",
       "       -6.92632166e+11, -1.28117820e+12, -9.43553859e+11, -1.19865167e+12,\n",
       "       -6.41291800e+11, -6.41291800e+11, -1.14028415e+12, -9.79112487e+11,\n",
       "       -8.27702644e+11, -9.43553859e+11, -3.87441467e+12, -2.59015811e+12,\n",
       "       -1.90052039e+12, -1.16983556e+12, -5.85452258e+11, -8.68049012e+11,\n",
       "       -6.92632166e+11, -7.85275471e+11, -1.40789566e+12, -1.30751729e+12,\n",
       "       -7.85275471e+11, -1.01341599e+12, -5.23676274e+11, -9.06592426e+11,\n",
       "       -8.68049012e+11, -1.47865533e+12, -2.57720188e+12, -1.95320969e+12,\n",
       "       -2.67901071e+12, -1.19865167e+12, -1.30751729e+12, -1.56796788e+12,\n",
       "       -2.70383316e+12, -1.61073710e+12, -1.33332992e+12, -1.14028415e+12,\n",
       "       -1.69297824e+12, -1.43187663e+12, -9.43553859e+11, -1.07873227e+12,\n",
       "       -1.33332992e+12, -1.50148994e+12, -6.41291800e+11, -5.85452258e+11,\n",
       "       -1.14028415e+12, -1.50148994e+12, -1.73260668e+12, -1.80920614e+12,\n",
       "       -1.38349306e+12, -6.92632166e+11, -1.58949897e+12, -6.92632166e+11,\n",
       "       -2.02126900e+12, -7.85275471e+11, -1.28117820e+12, -1.63169371e+12,\n",
       "       -8.27702644e+11, -7.40409874e+11, -1.10993872e+12, -1.01341599e+12,\n",
       "       -8.68049012e+11, -6.41291800e+11, -1.10993872e+12, -1.19865167e+12,\n",
       "       -3.14688377e+12, -8.27702644e+11, -6.41291800e+11, -2.05442898e+12,\n",
       "       -7.85275471e+11, -1.04658778e+12, -9.43553859e+11, -7.85275471e+11,\n",
       "       -1.56796788e+12, -1.22678432e+12, -8.27702644e+11, -1.10993872e+12,\n",
       "       -8.27702644e+11, -4.53544542e+11, -6.92632166e+11, -1.01341599e+12,\n",
       "       -5.85452258e+11, -1.69297824e+12, -8.68049012e+11, -1.67280453e+12,\n",
       "       -1.22678432e+12, -1.40789566e+12, -9.06592426e+11, -1.52397696e+12,\n",
       "       -7.40409874e+11, -5.23676274e+11, -1.07873227e+12, -1.01341599e+12,\n",
       "       -9.06592426e+11, -1.14028415e+12, -5.23676274e+11, -8.27702644e+11,\n",
       "       -8.27702644e+11, -1.52397696e+12, -2.83626616e+12, -1.01341599e+12,\n",
       "       -4.53544542e+11, -4.53544542e+11, -9.43553859e+11, -7.85275471e+11,\n",
       "       -1.40789566e+12, -6.41291800e+11, -7.40409874e+11, -1.47865533e+12,\n",
       "       -4.53544542e+11, -9.06592426e+11, -7.40409874e+11, -5.23676274e+11,\n",
       "       -8.27702644e+11, -7.40409874e+11, -9.43553859e+11, -1.33332992e+12,\n",
       "       -1.45545679e+12, -1.04658778e+12, -9.43553859e+11, -1.25427948e+12,\n",
       "       -9.43553859e+11, -6.41291800e+11, -8.68049012e+11, -7.85275471e+11,\n",
       "       -1.16983556e+12, -1.40789566e+12, -3.07237458e+12, -1.95320969e+12,\n",
       "       -7.40409874e+11, -1.65237950e+12, -1.71290950e+12, -9.06592426e+11,\n",
       "       -1.30751729e+12, -9.43553859e+11, -8.27702644e+11, -1.88262076e+12,\n",
       "       -4.01384445e+12, -9.06592426e+11, -6.92632166e+11, -7.85275471e+11,\n",
       "       -1.01341599e+12, -6.41291800e+11, -6.41291800e+11, -1.04658778e+12,\n",
       "       -8.68049012e+11, -6.41291800e+11, -8.27702644e+11, -1.22678432e+12,\n",
       "       -6.41291800e+11, -1.61073710e+12, -1.19865167e+12, -2.88282889e+12,\n",
       "       -1.65237950e+12, -8.27702644e+11, -4.53544542e+11, -6.92632166e+11,\n",
       "       -1.19865167e+12, -7.85275471e+11, -3.03984191e+12, -1.45545679e+12,\n",
       "       -7.40409874e+11, -5.85452258e+11, -1.10993872e+12, -1.38349306e+12,\n",
       "       -4.53544542e+11, -4.53544542e+11, -1.43187663e+12, -5.03570255e+12,\n",
       "       -8.68049012e+11, -3.01794482e+12, -1.25427948e+12, -6.41291800e+11,\n",
       "       -1.95320969e+12, -9.86732419e+12, -3.39511165e+00,  6.51853643e+01,\n",
       "        8.64451916e+00, -6.72324958e+00])"
      ]
     },
     "execution_count": 65,
     "metadata": {},
     "output_type": "execute_result"
    }
   ],
   "source": [
    "coef"
   ]
  },
  {
   "cell_type": "code",
   "execution_count": 66,
   "id": "99f41952",
   "metadata": {},
   "outputs": [
    {
     "data": {
      "text/plain": [
       "91.41737651992368"
      ]
     },
     "execution_count": 66,
     "metadata": {},
     "output_type": "execute_result"
    }
   ],
   "source": [
    "intercept"
   ]
  },
  {
   "cell_type": "code",
   "execution_count": null,
   "id": "61deaa4a",
   "metadata": {},
   "outputs": [],
   "source": []
  }
 ],
 "metadata": {
  "kernelspec": {
   "display_name": "Python 3 (ipykernel)",
   "language": "python",
   "name": "python3"
  },
  "language_info": {
   "codemirror_mode": {
    "name": "ipython",
    "version": 3
   },
   "file_extension": ".py",
   "mimetype": "text/x-python",
   "name": "python",
   "nbconvert_exporter": "python",
   "pygments_lexer": "ipython3",
   "version": "3.10.7"
  }
 },
 "nbformat": 4,
 "nbformat_minor": 5
}
