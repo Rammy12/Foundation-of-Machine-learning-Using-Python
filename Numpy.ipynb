{
 "cells": [
  {
   "cell_type": "code",
   "execution_count": 1,
   "id": "104f1818",
   "metadata": {},
   "outputs": [],
   "source": [
    "import numpy as np"
   ]
  },
  {
   "cell_type": "code",
   "execution_count": 3,
   "id": "30e159be",
   "metadata": {},
   "outputs": [],
   "source": [
    "a=[1,2,3,4,5,6,7,8,9,3]\n",
    "array1=np.array(a)"
   ]
  },
  {
   "cell_type": "code",
   "execution_count": 5,
   "id": "992c4658",
   "metadata": {},
   "outputs": [
    {
     "name": "stdout",
     "output_type": "stream",
     "text": [
      "[1 2 3 4 5 6 7 8 9 3]\n"
     ]
    }
   ],
   "source": [
    "print(array1)"
   ]
  },
  {
   "cell_type": "code",
   "execution_count": 6,
   "id": "a681c67f",
   "metadata": {},
   "outputs": [
    {
     "name": "stdout",
     "output_type": "stream",
     "text": [
      "<class 'numpy.ndarray'>\n"
     ]
    }
   ],
   "source": [
    "print(type(array1))"
   ]
  },
  {
   "cell_type": "code",
   "execution_count": 7,
   "id": "2a18d44b",
   "metadata": {},
   "outputs": [],
   "source": [
    "twoDarray=np.array([[1,2,3,4,5,6],[6,7,8,9,0,2],[5,6,8,9,3,5]])"
   ]
  },
  {
   "cell_type": "code",
   "execution_count": 8,
   "id": "41734db1",
   "metadata": {},
   "outputs": [
    {
     "name": "stdout",
     "output_type": "stream",
     "text": [
      "[[1 2 3 4 5 6]\n",
      " [6 7 8 9 0 2]\n",
      " [5 6 8 9 3 5]]\n"
     ]
    }
   ],
   "source": [
    "print(twoDarray)"
   ]
  },
  {
   "cell_type": "code",
   "execution_count": 9,
   "id": "0ec7eedd",
   "metadata": {},
   "outputs": [
    {
     "name": "stdout",
     "output_type": "stream",
     "text": [
      "(3, 6)\n"
     ]
    }
   ],
   "source": [
    "print(twoDarray.shape)"
   ]
  },
  {
   "cell_type": "code",
   "execution_count": 10,
   "id": "a91795b0",
   "metadata": {},
   "outputs": [],
   "source": [
    "one=np.ones((3,3))"
   ]
  },
  {
   "cell_type": "code",
   "execution_count": 11,
   "id": "5b3a9df9",
   "metadata": {},
   "outputs": [
    {
     "data": {
      "text/plain": [
       "array([[1., 1., 1.],\n",
       "       [1., 1., 1.],\n",
       "       [1., 1., 1.]])"
      ]
     },
     "execution_count": 11,
     "metadata": {},
     "output_type": "execute_result"
    }
   ],
   "source": [
    "one"
   ]
  },
  {
   "cell_type": "code",
   "execution_count": 14,
   "id": "0eb63beb",
   "metadata": {},
   "outputs": [],
   "source": [
    "zero=np.zeros((4,9))"
   ]
  },
  {
   "cell_type": "code",
   "execution_count": 15,
   "id": "136f0a95",
   "metadata": {},
   "outputs": [
    {
     "data": {
      "text/plain": [
       "array([[0., 0., 0., 0., 0., 0., 0., 0., 0.],\n",
       "       [0., 0., 0., 0., 0., 0., 0., 0., 0.],\n",
       "       [0., 0., 0., 0., 0., 0., 0., 0., 0.],\n",
       "       [0., 0., 0., 0., 0., 0., 0., 0., 0.]])"
      ]
     },
     "execution_count": 15,
     "metadata": {},
     "output_type": "execute_result"
    }
   ],
   "source": [
    "zero"
   ]
  },
  {
   "cell_type": "code",
   "execution_count": 18,
   "id": "a33ad7cb",
   "metadata": {},
   "outputs": [],
   "source": [
    "a=np.arange(10,30,2)"
   ]
  },
  {
   "cell_type": "code",
   "execution_count": 19,
   "id": "ec4847c8",
   "metadata": {},
   "outputs": [
    {
     "data": {
      "text/plain": [
       "array([10, 12, 14, 16, 18, 20, 22, 24, 26, 28])"
      ]
     },
     "execution_count": 19,
     "metadata": {},
     "output_type": "execute_result"
    }
   ],
   "source": [
    "a"
   ]
  },
  {
   "cell_type": "code",
   "execution_count": 20,
   "id": "a9e29bef",
   "metadata": {},
   "outputs": [],
   "source": [
    "rand=np.random.random(7)"
   ]
  },
  {
   "cell_type": "code",
   "execution_count": 21,
   "id": "df402e3b",
   "metadata": {},
   "outputs": [
    {
     "data": {
      "text/plain": [
       "array([0.33676612, 0.70409708, 0.62893456, 0.03864291, 0.87412734,\n",
       "       0.96863331, 0.95696934])"
      ]
     },
     "execution_count": 21,
     "metadata": {},
     "output_type": "execute_result"
    }
   ],
   "source": [
    "rand"
   ]
  },
  {
   "cell_type": "code",
   "execution_count": 22,
   "id": "e3468f8d",
   "metadata": {},
   "outputs": [],
   "source": [
    "rand1=np.random.randn(3,6)"
   ]
  },
  {
   "cell_type": "code",
   "execution_count": 23,
   "id": "90568632",
   "metadata": {},
   "outputs": [
    {
     "data": {
      "text/plain": [
       "array([[-1.9319667 ,  1.69515912, -0.23893961,  0.78868062, -0.71939566,\n",
       "         0.08383409],\n",
       "       [ 1.88996857,  0.05252294, -1.03298424,  0.83641469,  0.39177023,\n",
       "         0.20973413],\n",
       "       [-2.1053261 ,  0.1110074 ,  1.53774394, -0.18344382, -0.03284853,\n",
       "         0.24139811]])"
      ]
     },
     "execution_count": 23,
     "metadata": {},
     "output_type": "execute_result"
    }
   ],
   "source": [
    "rand1"
   ]
  },
  {
   "cell_type": "code",
   "execution_count": 26,
   "id": "62f49671",
   "metadata": {},
   "outputs": [
    {
     "data": {
      "text/plain": [
       "array([[1, 2, 3, 4, 5, 6, 6, 7, 8],\n",
       "       [9, 0, 2, 5, 6, 8, 9, 3, 5]])"
      ]
     },
     "execution_count": 26,
     "metadata": {},
     "output_type": "execute_result"
    }
   ],
   "source": [
    "twoDarray.reshape(2,-1)"
   ]
  },
  {
   "cell_type": "code",
   "execution_count": 33,
   "id": "b0890548",
   "metadata": {},
   "outputs": [
    {
     "name": "stdout",
     "output_type": "stream",
     "text": [
      "1.56 µs ± 101 ns per loop (mean ± std. dev. of 7 runs, 100,000 loops each)\n"
     ]
    }
   ],
   "source": [
    "%%timeit\n",
    "twoDarray*twoDarray"
   ]
  },
  {
   "cell_type": "code",
   "execution_count": 32,
   "id": "cd37ae31",
   "metadata": {},
   "outputs": [
    {
     "data": {
      "text/plain": [
       "array([[ 1,  4,  9, 16, 25, 36],\n",
       "       [36, 49, 64, 81,  0,  4],\n",
       "       [25, 36, 64, 81,  9, 25]])"
      ]
     },
     "execution_count": 32,
     "metadata": {},
     "output_type": "execute_result"
    }
   ],
   "source": [
    "twoDarray*twoDarray"
   ]
  },
  {
   "cell_type": "code",
   "execution_count": null,
   "id": "9f0a8f5c",
   "metadata": {},
   "outputs": [],
   "source": []
  }
 ],
 "metadata": {
  "kernelspec": {
   "display_name": "Python 3 (ipykernel)",
   "language": "python",
   "name": "python3"
  },
  "language_info": {
   "codemirror_mode": {
    "name": "ipython",
    "version": 3
   },
   "file_extension": ".py",
   "mimetype": "text/x-python",
   "name": "python",
   "nbconvert_exporter": "python",
   "pygments_lexer": "ipython3",
   "version": "3.10.7"
  }
 },
 "nbformat": 4,
 "nbformat_minor": 5
}
